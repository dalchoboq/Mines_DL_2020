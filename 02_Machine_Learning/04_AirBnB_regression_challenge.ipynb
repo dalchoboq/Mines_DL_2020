{
 "cells": [
  {
   "cell_type": "markdown",
   "metadata": {
    "slideshow": {
     "slide_type": "slide"
    }
   },
   "source": [
    "# AirBnB Regression Challenge"
   ]
  },
  {
   "cell_type": "markdown",
   "metadata": {
    "slideshow": {
     "slide_type": "slide"
    }
   },
   "source": [
    "# I. Data Exploration\n",
    "\n",
    "You will make a regression on the Airbnb dataset. The airbnb dataset for Paris can be downloaded [here](http://data.insideairbnb.com/france/ile-de-france/paris/2020-08-22/data/listings.csv.gz)."
   ]
  },
  {
   "cell_type": "markdown",
   "metadata": {
    "slideshow": {
     "slide_type": "slide"
    }
   },
   "source": [
    "First, you will explore and prepare the data.\n",
    "\n",
    "Follow at least the following steps:\n",
    "- load the data with pandas\n",
    "- have a look at the features, the missing data, the kind of data (categorical, quantitative, unstructured...)\n",
    "- Are there duplicates?\n",
    "\n",
    "Also display some plots:\n",
    "- Plot the distribution of the prices (warning, the data format might need some work)\n",
    "- Plot a heatmap of the geolocation of apartments with price in false color\n",
    "- Plot correlation of the price to the number of beds"
   ]
  },
  {
   "cell_type": "code",
   "execution_count": null,
   "metadata": {
    "slideshow": {
     "slide_type": "fragment"
    }
   },
   "outputs": [],
   "source": [
    "# TODO: Load and explore the data\n"
   ]
  },
  {
   "cell_type": "markdown",
   "metadata": {},
   "source": [
    "# II. Data Preparation"
   ]
  },
  {
   "cell_type": "markdown",
   "metadata": {},
   "source": [
    "Then do the data preparation:\n",
    "- select some features that you may find relevant and/or usable, and define your `X` and `y`\n",
    "- do not forget to clean if needed the data (duplicated, outlier, missing values...)\n",
    "- make the data preparation depending on the kind of data: e.g. dummies, rescaling, engineering\n",
    "- split the data"
   ]
  },
  {
   "cell_type": "code",
   "execution_count": null,
   "metadata": {
    "slideshow": {
     "slide_type": "fragment"
    }
   },
   "outputs": [],
   "source": [
    "# TODO: Clean, prepare and split the data\n"
   ]
  },
  {
   "cell_type": "markdown",
   "metadata": {},
   "source": [
    "# III. Model Training and Optimization"
   ]
  },
  {
   "cell_type": "markdown",
   "metadata": {},
   "source": [
    "First, you have to select an evaluation metric. Which one could you use?\n",
    "The most used metrics in regression are the following:\n",
    "- mean squared error\n",
    "- mean absolute error\n",
    "- R-square\n",
    "\n",
    "All of them are available on scikit-learn."
   ]
  },
  {
   "cell_type": "markdown",
   "metadata": {},
   "source": [
    "Select a model and train it. Do not forget to use gridsearch to optimize the hyperparameters if any.\n",
    "\n",
    "There are several regression models available on scikit-learn, among them:\n",
    "- linear regression\n",
    "- ridge regression\n",
    "- LASSO\n",
    "- PLS regression\n",
    "\n",
    "Feel free to try all the models you want."
   ]
  },
  {
   "cell_type": "code",
   "execution_count": null,
   "metadata": {},
   "outputs": [],
   "source": [
    "# TODO: Train, optimize and evaluate models\n"
   ]
  }
 ],
 "metadata": {
  "celltoolbar": "Slideshow",
  "kernelspec": {
   "display_name": "Python 3",
   "language": "python",
   "name": "python3"
  },
  "language_info": {
   "codemirror_mode": {
    "name": "ipython",
    "version": 3
   },
   "file_extension": ".py",
   "mimetype": "text/x-python",
   "name": "python",
   "nbconvert_exporter": "python",
   "pygments_lexer": "ipython3",
   "version": "3.7.4"
  }
 },
 "nbformat": 4,
 "nbformat_minor": 2
}
