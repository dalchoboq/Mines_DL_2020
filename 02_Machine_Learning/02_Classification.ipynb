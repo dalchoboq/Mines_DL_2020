{
 "cells": [
  {
   "cell_type": "markdown",
   "metadata": {
    "slideshow": {
     "slide_type": "slide"
    }
   },
   "source": [
    "# Machine Learning Introduction: Classification"
   ]
  },
  {
   "cell_type": "markdown",
   "metadata": {
    "slideshow": {
     "slide_type": "subslide"
    }
   },
   "source": [
    "# Artificial Intelligence Introduction"
   ]
  },
  {
   "cell_type": "markdown",
   "metadata": {
    "slideshow": {
     "slide_type": "fragment"
    }
   },
   "source": [
    "What is the difference between AI, ML and DL?"
   ]
  },
  {
   "cell_type": "markdown",
   "metadata": {
    "slideshow": {
     "slide_type": "subslide"
    }
   },
   "source": [
    "![](images/AI_ML_DL.png)"
   ]
  },
  {
   "cell_type": "markdown",
   "metadata": {
    "slideshow": {
     "slide_type": "subslide"
    }
   },
   "source": [
    "Machine Learning is a wide field, containing many applications.\n",
    "\n",
    "The most common ones are the following:\n",
    "- Supervised learning: you know the target you want to learn\n",
    "- Unsupervised learning: you only have features, no target labels\n",
    "\n",
    "![](images/supervised_unsupervised.png)"
   ]
  },
  {
   "cell_type": "markdown",
   "metadata": {
    "slideshow": {
     "slide_type": "subslide"
    }
   },
   "source": [
    "Supervised learning can be separated into two main parts:\n",
    "- Regression: predict a continuous value (e.g. house price)\n",
    "- Classification: classify data (e.g. dogs or cat)\n",
    "\n",
    "![](images/classif_vs_reg.jpg)"
   ]
  },
  {
   "cell_type": "markdown",
   "metadata": {
    "slideshow": {
     "slide_type": "subslide"
    }
   },
   "source": [
    "We will begin by doing a regression, and then we will work on a classification.\n",
    "\n",
    "We will use a really famous french library to do so: **scikit-learn**.\n",
    "\n",
    "![](images/sklearn.png)"
   ]
  },
  {
   "cell_type": "markdown",
   "metadata": {
    "slideshow": {
     "slide_type": "subslide"
    }
   },
   "source": [
    "# I. Data exploration and preparation\n",
    "\n",
    "We will now apply classification algorithms to a very common problem: customer churn.\n",
    "\n",
    "This is a binary classification: the idea is to predict whether a customer is a churner (will leave for another company) or not."
   ]
  },
  {
   "cell_type": "markdown",
   "metadata": {
    "slideshow": {
     "slide_type": "fragment"
    }
   },
   "source": [
    "We will use the dataset `telecom.csv`: made of 3333 customers, 18 features + 1 target.\n",
    "\n",
    "Have a look at it and make a short data exploration if you want and then data preparation."
   ]
  },
  {
   "cell_type": "markdown",
   "metadata": {
    "slideshow": {
     "slide_type": "subslide"
    }
   },
   "source": [
    "## I.1 Data cleaning\n",
    "\n"
   ]
  },
  {
   "cell_type": "code",
   "execution_count": 1,
   "metadata": {
    "slideshow": {
     "slide_type": "fragment"
    }
   },
   "outputs": [
    {
     "name": "stdout",
     "output_type": "stream",
     "text": [
      "<class 'pandas.core.frame.DataFrame'>\n",
      "RangeIndex: 3333 entries, 0 to 3332\n",
      "Data columns (total 19 columns):\n",
      "Account Length    3333 non-null int64\n",
      "Area Code         3333 non-null int64\n",
      "Int'l Plan        3333 non-null object\n",
      "VMail Plan        3333 non-null object\n",
      "VMail Message     3333 non-null int64\n",
      "Day Mins          3333 non-null float64\n",
      "Day Calls         3333 non-null int64\n",
      "Day Charge        3333 non-null float64\n",
      "Eve Mins          3333 non-null float64\n",
      "Eve Calls         3333 non-null int64\n",
      "Eve Charge        3333 non-null float64\n",
      "Night Mins        3333 non-null float64\n",
      "Night Calls       3333 non-null int64\n",
      "Night Charge      3333 non-null float64\n",
      "Intl Mins         3333 non-null float64\n",
      "Intl Calls        3333 non-null int64\n",
      "Intl Charge       3333 non-null float64\n",
      "CustServ Calls    3333 non-null int64\n",
      "Churn?            3333 non-null object\n",
      "dtypes: float64(8), int64(8), object(3)\n",
      "memory usage: 494.9+ KB\n"
     ]
    }
   ],
   "source": [
    "import pandas as pd\n",
    "import numpy as np\n",
    "\n",
    "churn=pd.read_csv(\"telecom.csv\")\n",
    "\n",
    "churn.info()"
   ]
  },
  {
   "cell_type": "code",
   "execution_count": 2,
   "metadata": {
    "slideshow": {
     "slide_type": "subslide"
    }
   },
   "outputs": [
    {
     "data": {
      "text/html": [
       "<div>\n",
       "<style scoped>\n",
       "    .dataframe tbody tr th:only-of-type {\n",
       "        vertical-align: middle;\n",
       "    }\n",
       "\n",
       "    .dataframe tbody tr th {\n",
       "        vertical-align: top;\n",
       "    }\n",
       "\n",
       "    .dataframe thead th {\n",
       "        text-align: right;\n",
       "    }\n",
       "</style>\n",
       "<table border=\"1\" class=\"dataframe\">\n",
       "  <thead>\n",
       "    <tr style=\"text-align: right;\">\n",
       "      <th></th>\n",
       "      <th>Account Length</th>\n",
       "      <th>Area Code</th>\n",
       "      <th>Int'l Plan</th>\n",
       "      <th>VMail Plan</th>\n",
       "      <th>VMail Message</th>\n",
       "      <th>Day Mins</th>\n",
       "      <th>Day Calls</th>\n",
       "      <th>Day Charge</th>\n",
       "      <th>Eve Mins</th>\n",
       "      <th>Eve Calls</th>\n",
       "      <th>Eve Charge</th>\n",
       "      <th>Night Mins</th>\n",
       "      <th>Night Calls</th>\n",
       "      <th>Night Charge</th>\n",
       "      <th>Intl Mins</th>\n",
       "      <th>Intl Calls</th>\n",
       "      <th>Intl Charge</th>\n",
       "      <th>CustServ Calls</th>\n",
       "      <th>Churn?</th>\n",
       "    </tr>\n",
       "  </thead>\n",
       "  <tbody>\n",
       "    <tr>\n",
       "      <th>0</th>\n",
       "      <td>128</td>\n",
       "      <td>415</td>\n",
       "      <td>no</td>\n",
       "      <td>yes</td>\n",
       "      <td>25</td>\n",
       "      <td>265.1</td>\n",
       "      <td>110</td>\n",
       "      <td>45.07</td>\n",
       "      <td>197.4</td>\n",
       "      <td>99</td>\n",
       "      <td>16.78</td>\n",
       "      <td>244.7</td>\n",
       "      <td>91</td>\n",
       "      <td>11.01</td>\n",
       "      <td>10.0</td>\n",
       "      <td>3</td>\n",
       "      <td>2.70</td>\n",
       "      <td>1</td>\n",
       "      <td>False.</td>\n",
       "    </tr>\n",
       "    <tr>\n",
       "      <th>1</th>\n",
       "      <td>107</td>\n",
       "      <td>415</td>\n",
       "      <td>no</td>\n",
       "      <td>yes</td>\n",
       "      <td>26</td>\n",
       "      <td>161.6</td>\n",
       "      <td>123</td>\n",
       "      <td>27.47</td>\n",
       "      <td>195.5</td>\n",
       "      <td>103</td>\n",
       "      <td>16.62</td>\n",
       "      <td>254.4</td>\n",
       "      <td>103</td>\n",
       "      <td>11.45</td>\n",
       "      <td>13.7</td>\n",
       "      <td>3</td>\n",
       "      <td>3.70</td>\n",
       "      <td>1</td>\n",
       "      <td>False.</td>\n",
       "    </tr>\n",
       "    <tr>\n",
       "      <th>2</th>\n",
       "      <td>137</td>\n",
       "      <td>415</td>\n",
       "      <td>no</td>\n",
       "      <td>no</td>\n",
       "      <td>0</td>\n",
       "      <td>243.4</td>\n",
       "      <td>114</td>\n",
       "      <td>41.38</td>\n",
       "      <td>121.2</td>\n",
       "      <td>110</td>\n",
       "      <td>10.30</td>\n",
       "      <td>162.6</td>\n",
       "      <td>104</td>\n",
       "      <td>7.32</td>\n",
       "      <td>12.2</td>\n",
       "      <td>5</td>\n",
       "      <td>3.29</td>\n",
       "      <td>0</td>\n",
       "      <td>False.</td>\n",
       "    </tr>\n",
       "    <tr>\n",
       "      <th>3</th>\n",
       "      <td>84</td>\n",
       "      <td>408</td>\n",
       "      <td>yes</td>\n",
       "      <td>no</td>\n",
       "      <td>0</td>\n",
       "      <td>299.4</td>\n",
       "      <td>71</td>\n",
       "      <td>50.90</td>\n",
       "      <td>61.9</td>\n",
       "      <td>88</td>\n",
       "      <td>5.26</td>\n",
       "      <td>196.9</td>\n",
       "      <td>89</td>\n",
       "      <td>8.86</td>\n",
       "      <td>6.6</td>\n",
       "      <td>7</td>\n",
       "      <td>1.78</td>\n",
       "      <td>2</td>\n",
       "      <td>False.</td>\n",
       "    </tr>\n",
       "    <tr>\n",
       "      <th>4</th>\n",
       "      <td>75</td>\n",
       "      <td>415</td>\n",
       "      <td>yes</td>\n",
       "      <td>no</td>\n",
       "      <td>0</td>\n",
       "      <td>166.7</td>\n",
       "      <td>113</td>\n",
       "      <td>28.34</td>\n",
       "      <td>148.3</td>\n",
       "      <td>122</td>\n",
       "      <td>12.61</td>\n",
       "      <td>186.9</td>\n",
       "      <td>121</td>\n",
       "      <td>8.41</td>\n",
       "      <td>10.1</td>\n",
       "      <td>3</td>\n",
       "      <td>2.73</td>\n",
       "      <td>3</td>\n",
       "      <td>False.</td>\n",
       "    </tr>\n",
       "  </tbody>\n",
       "</table>\n",
       "</div>"
      ],
      "text/plain": [
       "   Account Length  Area Code Int'l Plan VMail Plan  VMail Message  Day Mins  \\\n",
       "0             128        415         no        yes             25     265.1   \n",
       "1             107        415         no        yes             26     161.6   \n",
       "2             137        415         no         no              0     243.4   \n",
       "3              84        408        yes         no              0     299.4   \n",
       "4              75        415        yes         no              0     166.7   \n",
       "\n",
       "   Day Calls  Day Charge  Eve Mins  Eve Calls  Eve Charge  Night Mins  \\\n",
       "0        110       45.07     197.4         99       16.78       244.7   \n",
       "1        123       27.47     195.5        103       16.62       254.4   \n",
       "2        114       41.38     121.2        110       10.30       162.6   \n",
       "3         71       50.90      61.9         88        5.26       196.9   \n",
       "4        113       28.34     148.3        122       12.61       186.9   \n",
       "\n",
       "   Night Calls  Night Charge  Intl Mins  Intl Calls  Intl Charge  \\\n",
       "0           91         11.01       10.0           3         2.70   \n",
       "1          103         11.45       13.7           3         3.70   \n",
       "2          104          7.32       12.2           5         3.29   \n",
       "3           89          8.86        6.6           7         1.78   \n",
       "4          121          8.41       10.1           3         2.73   \n",
       "\n",
       "   CustServ Calls  Churn?  \n",
       "0               1  False.  \n",
       "1               1  False.  \n",
       "2               0  False.  \n",
       "3               2  False.  \n",
       "4               3  False.  "
      ]
     },
     "execution_count": 2,
     "metadata": {},
     "output_type": "execute_result"
    }
   ],
   "source": [
    "churn.head()"
   ]
  },
  {
   "cell_type": "code",
   "execution_count": 3,
   "metadata": {
    "slideshow": {
     "slide_type": "fragment"
    }
   },
   "outputs": [
    {
     "data": {
      "text/plain": [
       "0"
      ]
     },
     "execution_count": 3,
     "metadata": {},
     "output_type": "execute_result"
    }
   ],
   "source": [
    "churn.duplicated().sum()"
   ]
  },
  {
   "cell_type": "markdown",
   "metadata": {
    "slideshow": {
     "slide_type": "subslide"
    }
   },
   "source": [
    "We seem to have no missing data and no duplicates.\n",
    "\n",
    "It would be a nice idea to make some data exploration, for pedagogical reasons, we will go directly to data preparation. "
   ]
  },
  {
   "cell_type": "markdown",
   "metadata": {
    "slideshow": {
     "slide_type": "subslide"
    }
   },
   "source": [
    "## I.2 Data Preparation\n",
    "\n",
    "What are the steps of data preparation?"
   ]
  },
  {
   "cell_type": "markdown",
   "metadata": {
    "slideshow": {
     "slide_type": "fragment"
    }
   },
   "source": [
    "- one-hot-encoding of categorical data\n",
    "- rescaling of quantitative data\n",
    "- feature engineering (not mandatory at first iteration)\n",
    "- define `X` and `y`\n",
    "- data splitting into train and test sets"
   ]
  },
  {
   "cell_type": "markdown",
   "metadata": {
    "slideshow": {
     "slide_type": "subslide"
    }
   },
   "source": [
    "### Categorical data\n",
    "\n",
    "What are the categorical data here that we have to process?\n",
    "\n",
    "How do we process them?"
   ]
  },
  {
   "cell_type": "code",
   "execution_count": 4,
   "metadata": {
    "scrolled": true,
    "slideshow": {
     "slide_type": "fragment"
    }
   },
   "outputs": [
    {
     "data": {
      "text/html": [
       "<div>\n",
       "<style scoped>\n",
       "    .dataframe tbody tr th:only-of-type {\n",
       "        vertical-align: middle;\n",
       "    }\n",
       "\n",
       "    .dataframe tbody tr th {\n",
       "        vertical-align: top;\n",
       "    }\n",
       "\n",
       "    .dataframe thead th {\n",
       "        text-align: right;\n",
       "    }\n",
       "</style>\n",
       "<table border=\"1\" class=\"dataframe\">\n",
       "  <thead>\n",
       "    <tr style=\"text-align: right;\">\n",
       "      <th></th>\n",
       "      <th>Area Code_415</th>\n",
       "      <th>Area Code_510</th>\n",
       "      <th>Int'l Plan_yes</th>\n",
       "      <th>VMail Plan_yes</th>\n",
       "      <th>Churn?_True.</th>\n",
       "    </tr>\n",
       "  </thead>\n",
       "  <tbody>\n",
       "    <tr>\n",
       "      <th>0</th>\n",
       "      <td>1</td>\n",
       "      <td>0</td>\n",
       "      <td>0</td>\n",
       "      <td>1</td>\n",
       "      <td>0</td>\n",
       "    </tr>\n",
       "    <tr>\n",
       "      <th>1</th>\n",
       "      <td>1</td>\n",
       "      <td>0</td>\n",
       "      <td>0</td>\n",
       "      <td>1</td>\n",
       "      <td>0</td>\n",
       "    </tr>\n",
       "    <tr>\n",
       "      <th>2</th>\n",
       "      <td>1</td>\n",
       "      <td>0</td>\n",
       "      <td>0</td>\n",
       "      <td>0</td>\n",
       "      <td>0</td>\n",
       "    </tr>\n",
       "    <tr>\n",
       "      <th>3</th>\n",
       "      <td>0</td>\n",
       "      <td>0</td>\n",
       "      <td>1</td>\n",
       "      <td>0</td>\n",
       "      <td>0</td>\n",
       "    </tr>\n",
       "    <tr>\n",
       "      <th>4</th>\n",
       "      <td>1</td>\n",
       "      <td>0</td>\n",
       "      <td>1</td>\n",
       "      <td>0</td>\n",
       "      <td>0</td>\n",
       "    </tr>\n",
       "  </tbody>\n",
       "</table>\n",
       "</div>"
      ],
      "text/plain": [
       "   Area Code_415  Area Code_510  Int'l Plan_yes  VMail Plan_yes  Churn?_True.\n",
       "0              1              0               0               1             0\n",
       "1              1              0               0               1             0\n",
       "2              1              0               0               0             0\n",
       "3              0              0               1               0             0\n",
       "4              1              0               1               0             0"
      ]
     },
     "execution_count": 4,
     "metadata": {},
     "output_type": "execute_result"
    }
   ],
   "source": [
    "categorical_cols = ['Area Code', \"Int'l Plan\", 'VMail Plan', 'Churn?']\n",
    "\n",
    "dummies = pd.get_dummies(churn[categorical_cols].astype(str), drop_first=True)\n",
    "dummies.head()"
   ]
  },
  {
   "cell_type": "markdown",
   "metadata": {
    "slideshow": {
     "slide_type": "subslide"
    }
   },
   "source": [
    "### Quantitative data\n",
    "\n",
    "Now how do we process quantitative data?"
   ]
  },
  {
   "cell_type": "code",
   "execution_count": 5,
   "metadata": {
    "scrolled": true,
    "slideshow": {
     "slide_type": "fragment"
    }
   },
   "outputs": [
    {
     "data": {
      "text/html": [
       "<div>\n",
       "<style scoped>\n",
       "    .dataframe tbody tr th:only-of-type {\n",
       "        vertical-align: middle;\n",
       "    }\n",
       "\n",
       "    .dataframe tbody tr th {\n",
       "        vertical-align: top;\n",
       "    }\n",
       "\n",
       "    .dataframe thead th {\n",
       "        text-align: right;\n",
       "    }\n",
       "</style>\n",
       "<table border=\"1\" class=\"dataframe\">\n",
       "  <thead>\n",
       "    <tr style=\"text-align: right;\">\n",
       "      <th></th>\n",
       "      <th>Account Length</th>\n",
       "      <th>VMail Message</th>\n",
       "      <th>Day Mins</th>\n",
       "      <th>Day Calls</th>\n",
       "      <th>Day Charge</th>\n",
       "      <th>Eve Mins</th>\n",
       "      <th>Eve Calls</th>\n",
       "      <th>Eve Charge</th>\n",
       "      <th>Night Mins</th>\n",
       "      <th>Night Calls</th>\n",
       "      <th>Night Charge</th>\n",
       "      <th>Intl Mins</th>\n",
       "      <th>Intl Calls</th>\n",
       "      <th>Intl Charge</th>\n",
       "      <th>CustServ Calls</th>\n",
       "    </tr>\n",
       "  </thead>\n",
       "  <tbody>\n",
       "    <tr>\n",
       "      <th>count</th>\n",
       "      <td>3.333000e+03</td>\n",
       "      <td>3.333000e+03</td>\n",
       "      <td>3.333000e+03</td>\n",
       "      <td>3.333000e+03</td>\n",
       "      <td>3.333000e+03</td>\n",
       "      <td>3.333000e+03</td>\n",
       "      <td>3.333000e+03</td>\n",
       "      <td>3.333000e+03</td>\n",
       "      <td>3.333000e+03</td>\n",
       "      <td>3.333000e+03</td>\n",
       "      <td>3.333000e+03</td>\n",
       "      <td>3.333000e+03</td>\n",
       "      <td>3.333000e+03</td>\n",
       "      <td>3.333000e+03</td>\n",
       "      <td>3.333000e+03</td>\n",
       "    </tr>\n",
       "    <tr>\n",
       "      <th>mean</th>\n",
       "      <td>1.449652e-16</td>\n",
       "      <td>8.527366e-17</td>\n",
       "      <td>-3.446655e-15</td>\n",
       "      <td>-2.025249e-16</td>\n",
       "      <td>-2.205923e-15</td>\n",
       "      <td>4.881917e-16</td>\n",
       "      <td>3.336332e-16</td>\n",
       "      <td>2.607242e-15</td>\n",
       "      <td>-2.164885e-15</td>\n",
       "      <td>-4.849939e-17</td>\n",
       "      <td>-6.284668e-15</td>\n",
       "      <td>1.569035e-15</td>\n",
       "      <td>7.461445e-18</td>\n",
       "      <td>1.382712e-14</td>\n",
       "      <td>5.969156e-17</td>\n",
       "    </tr>\n",
       "    <tr>\n",
       "      <th>std</th>\n",
       "      <td>1.000000e+00</td>\n",
       "      <td>1.000000e+00</td>\n",
       "      <td>1.000000e+00</td>\n",
       "      <td>1.000000e+00</td>\n",
       "      <td>1.000000e+00</td>\n",
       "      <td>1.000000e+00</td>\n",
       "      <td>1.000000e+00</td>\n",
       "      <td>1.000000e+00</td>\n",
       "      <td>1.000000e+00</td>\n",
       "      <td>1.000000e+00</td>\n",
       "      <td>1.000000e+00</td>\n",
       "      <td>1.000000e+00</td>\n",
       "      <td>1.000000e+00</td>\n",
       "      <td>1.000000e+00</td>\n",
       "      <td>1.000000e+00</td>\n",
       "    </tr>\n",
       "    <tr>\n",
       "      <th>min</th>\n",
       "      <td>-2.512795e+00</td>\n",
       "      <td>-5.916711e-01</td>\n",
       "      <td>-3.300601e+00</td>\n",
       "      <td>-5.004496e+00</td>\n",
       "      <td>-3.300667e+00</td>\n",
       "      <td>-3.963027e+00</td>\n",
       "      <td>-5.025157e+00</td>\n",
       "      <td>-3.963085e+00</td>\n",
       "      <td>-3.513121e+00</td>\n",
       "      <td>-3.429355e+00</td>\n",
       "      <td>-3.514838e+00</td>\n",
       "      <td>-3.666863e+00</td>\n",
       "      <td>-1.820015e+00</td>\n",
       "      <td>-3.667660e+00</td>\n",
       "      <td>-1.188040e+00</td>\n",
       "    </tr>\n",
       "    <tr>\n",
       "      <th>25%</th>\n",
       "      <td>-6.796428e-01</td>\n",
       "      <td>-5.916711e-01</td>\n",
       "      <td>-6.623247e-01</td>\n",
       "      <td>-6.694697e-01</td>\n",
       "      <td>-6.622766e-01</td>\n",
       "      <td>-6.779283e-01</td>\n",
       "      <td>-6.582622e-01</td>\n",
       "      <td>-6.782106e-01</td>\n",
       "      <td>-6.697540e-01</td>\n",
       "      <td>-6.698335e-01</td>\n",
       "      <td>-6.675790e-01</td>\n",
       "      <td>-6.222756e-01</td>\n",
       "      <td>-6.011049e-01</td>\n",
       "      <td>-6.163417e-01</td>\n",
       "      <td>-4.278678e-01</td>\n",
       "    </tr>\n",
       "    <tr>\n",
       "      <th>50%</th>\n",
       "      <td>-1.627400e-03</td>\n",
       "      <td>-5.916711e-01</td>\n",
       "      <td>-6.886644e-03</td>\n",
       "      <td>2.812069e-02</td>\n",
       "      <td>-6.729054e-03</td>\n",
       "      <td>8.274899e-03</td>\n",
       "      <td>-5.737769e-03</td>\n",
       "      <td>8.458004e-03</td>\n",
       "      <td>6.484830e-03</td>\n",
       "      <td>-5.504263e-03</td>\n",
       "      <td>4.690538e-03</td>\n",
       "      <td>2.246056e-02</td>\n",
       "      <td>-1.948014e-01</td>\n",
       "      <td>2.045516e-02</td>\n",
       "      <td>-4.278678e-01</td>\n",
       "    </tr>\n",
       "    <tr>\n",
       "      <th>75%</th>\n",
       "      <td>6.512763e-01</td>\n",
       "      <td>8.694238e-01</td>\n",
       "      <td>6.724189e-01</td>\n",
       "      <td>6.758832e-01</td>\n",
       "      <td>6.725781e-01</td>\n",
       "      <td>6.767314e-01</td>\n",
       "      <td>6.969809e-01</td>\n",
       "      <td>6.765680e-01</td>\n",
       "      <td>6.807464e-01</td>\n",
       "      <td>6.588250e-01</td>\n",
       "      <td>6.813540e-01</td>\n",
       "      <td>6.671967e-01</td>\n",
       "      <td>6.178056e-01</td>\n",
       "      <td>6.705186e-01</td>\n",
       "      <td>3.323046e-01</td>\n",
       "    </tr>\n",
       "    <tr>\n",
       "      <th>max</th>\n",
       "      <td>3.564231e+00</td>\n",
       "      <td>3.134121e+00</td>\n",
       "      <td>3.139950e+00</td>\n",
       "      <td>3.217105e+00</td>\n",
       "      <td>3.140331e+00</td>\n",
       "      <td>3.208584e+00</td>\n",
       "      <td>3.507855e+00</td>\n",
       "      <td>3.207498e+00</td>\n",
       "      <td>3.838505e+00</td>\n",
       "      <td>3.827165e+00</td>\n",
       "      <td>3.836188e+00</td>\n",
       "      <td>3.496872e+00</td>\n",
       "      <td>6.306055e+00</td>\n",
       "      <td>3.496304e+00</td>\n",
       "      <td>5.653511e+00</td>\n",
       "    </tr>\n",
       "  </tbody>\n",
       "</table>\n",
       "</div>"
      ],
      "text/plain": [
       "       Account Length  VMail Message      Day Mins     Day Calls  \\\n",
       "count    3.333000e+03   3.333000e+03  3.333000e+03  3.333000e+03   \n",
       "mean     1.449652e-16   8.527366e-17 -3.446655e-15 -2.025249e-16   \n",
       "std      1.000000e+00   1.000000e+00  1.000000e+00  1.000000e+00   \n",
       "min     -2.512795e+00  -5.916711e-01 -3.300601e+00 -5.004496e+00   \n",
       "25%     -6.796428e-01  -5.916711e-01 -6.623247e-01 -6.694697e-01   \n",
       "50%     -1.627400e-03  -5.916711e-01 -6.886644e-03  2.812069e-02   \n",
       "75%      6.512763e-01   8.694238e-01  6.724189e-01  6.758832e-01   \n",
       "max      3.564231e+00   3.134121e+00  3.139950e+00  3.217105e+00   \n",
       "\n",
       "         Day Charge      Eve Mins     Eve Calls    Eve Charge    Night Mins  \\\n",
       "count  3.333000e+03  3.333000e+03  3.333000e+03  3.333000e+03  3.333000e+03   \n",
       "mean  -2.205923e-15  4.881917e-16  3.336332e-16  2.607242e-15 -2.164885e-15   \n",
       "std    1.000000e+00  1.000000e+00  1.000000e+00  1.000000e+00  1.000000e+00   \n",
       "min   -3.300667e+00 -3.963027e+00 -5.025157e+00 -3.963085e+00 -3.513121e+00   \n",
       "25%   -6.622766e-01 -6.779283e-01 -6.582622e-01 -6.782106e-01 -6.697540e-01   \n",
       "50%   -6.729054e-03  8.274899e-03 -5.737769e-03  8.458004e-03  6.484830e-03   \n",
       "75%    6.725781e-01  6.767314e-01  6.969809e-01  6.765680e-01  6.807464e-01   \n",
       "max    3.140331e+00  3.208584e+00  3.507855e+00  3.207498e+00  3.838505e+00   \n",
       "\n",
       "        Night Calls  Night Charge     Intl Mins    Intl Calls   Intl Charge  \\\n",
       "count  3.333000e+03  3.333000e+03  3.333000e+03  3.333000e+03  3.333000e+03   \n",
       "mean  -4.849939e-17 -6.284668e-15  1.569035e-15  7.461445e-18  1.382712e-14   \n",
       "std    1.000000e+00  1.000000e+00  1.000000e+00  1.000000e+00  1.000000e+00   \n",
       "min   -3.429355e+00 -3.514838e+00 -3.666863e+00 -1.820015e+00 -3.667660e+00   \n",
       "25%   -6.698335e-01 -6.675790e-01 -6.222756e-01 -6.011049e-01 -6.163417e-01   \n",
       "50%   -5.504263e-03  4.690538e-03  2.246056e-02 -1.948014e-01  2.045516e-02   \n",
       "75%    6.588250e-01  6.813540e-01  6.671967e-01  6.178056e-01  6.705186e-01   \n",
       "max    3.827165e+00  3.836188e+00  3.496872e+00  6.306055e+00  3.496304e+00   \n",
       "\n",
       "       CustServ Calls  \n",
       "count    3.333000e+03  \n",
       "mean     5.969156e-17  \n",
       "std      1.000000e+00  \n",
       "min     -1.188040e+00  \n",
       "25%     -4.278678e-01  \n",
       "50%     -4.278678e-01  \n",
       "75%      3.323046e-01  \n",
       "max      5.653511e+00  "
      ]
     },
     "execution_count": 5,
     "metadata": {},
     "output_type": "execute_result"
    }
   ],
   "source": [
    "scaled = churn.drop(columns=categorical_cols)\n",
    "scaled = (scaled - scaled.mean())/scaled.std()\n",
    "\n",
    "scaled.describe()"
   ]
  },
  {
   "cell_type": "markdown",
   "metadata": {
    "slideshow": {
     "slide_type": "subslide"
    }
   },
   "source": [
    "### Data splitting\n",
    "\n",
    "We now have to define our `X` and `y` and then split into train and test sets."
   ]
  },
  {
   "cell_type": "code",
   "execution_count": 6,
   "metadata": {
    "slideshow": {
     "slide_type": "fragment"
    }
   },
   "outputs": [
    {
     "data": {
      "text/plain": [
       "((3333, 19), (3333,))"
      ]
     },
     "execution_count": 6,
     "metadata": {},
     "output_type": "execute_result"
    }
   ],
   "source": [
    "concat = pd.concat([dummies, scaled], axis=1)\n",
    "y = concat['Churn?_True.']\n",
    "X = concat.drop(columns='Churn?_True.')\n",
    "\n",
    "X.shape, y.shape"
   ]
  },
  {
   "cell_type": "code",
   "execution_count": 7,
   "metadata": {
    "slideshow": {
     "slide_type": "fragment"
    }
   },
   "outputs": [],
   "source": [
    "from sklearn.model_selection import train_test_split\n",
    "\n",
    "X_train, X_test, y_train, y_test = train_test_split(X, y, test_size=0.2, stratify=y, random_state=42)"
   ]
  },
  {
   "cell_type": "markdown",
   "metadata": {
    "slideshow": {
     "slide_type": "slide"
    }
   },
   "source": [
    "# II. Model training and optimization\n",
    "\n",
    "We now have our data well prepared. \n",
    "\n",
    "Next step is model training!\n",
    "\n",
    "There are many classification models in ML:\n",
    "- Logitic Regression\n",
    "- k-NN\n",
    "- SVM\n",
    "- Gradient Boosting\n",
    "- Random Forest\n",
    "- ...\n",
    "\n",
    "They are all available in scikit-learn, so that you won't have to rewrite the algorithms!\n",
    "\n",
    "And they all work the same way:\n",
    "- first you instantiate the model\n",
    "- then you train the model with the `.fit(X, y)` method\n",
    "- finally you can predict with the `.predict(X)` method"
   ]
  },
  {
   "cell_type": "markdown",
   "metadata": {
    "slideshow": {
     "slide_type": "subslide"
    }
   },
   "source": [
    "## II.1 Model training\n",
    "\n",
    "Let's now instantiate and train some models:\n",
    "- k-NN\n",
    "- logistic regression\n",
    "- gradient boosting\n",
    "\n",
    "Up to you to test more models!"
   ]
  },
  {
   "cell_type": "code",
   "execution_count": 8,
   "metadata": {
    "slideshow": {
     "slide_type": "fragment"
    }
   },
   "outputs": [
    {
     "data": {
      "text/plain": [
       "GradientBoostingClassifier(ccp_alpha=0.0, criterion='friedman_mse', init=None,\n",
       "                           learning_rate=0.1, loss='deviance', max_depth=3,\n",
       "                           max_features=None, max_leaf_nodes=None,\n",
       "                           min_impurity_decrease=0.0, min_impurity_split=None,\n",
       "                           min_samples_leaf=1, min_samples_split=2,\n",
       "                           min_weight_fraction_leaf=0.0, n_estimators=100,\n",
       "                           n_iter_no_change=None, presort='deprecated',\n",
       "                           random_state=None, subsample=1.0, tol=0.0001,\n",
       "                           validation_fraction=0.1, verbose=0,\n",
       "                           warm_start=False)"
      ]
     },
     "execution_count": 8,
     "metadata": {},
     "output_type": "execute_result"
    }
   ],
   "source": [
    "from sklearn.neighbors import KNeighborsClassifier\n",
    "from sklearn.linear_model import LogisticRegression\n",
    "from sklearn.ensemble import GradientBoostingClassifier\n",
    "\n",
    "knn = KNeighborsClassifier()\n",
    "lr = LogisticRegression()\n",
    "gdb = GradientBoostingClassifier()\n",
    "\n",
    "knn.fit(X_train, y_train)\n",
    "lr.fit(X_train, y_train)\n",
    "gdb.fit(X_train, y_train)"
   ]
  },
  {
   "cell_type": "markdown",
   "metadata": {
    "slideshow": {
     "slide_type": "subslide"
    }
   },
   "source": [
    "## II.2 Model evaluation\n",
    "\n",
    "We can now evaluate the performances of our model.\n",
    "\n",
    "What metrics would you use to evaluate the performance of a binary classification?"
   ]
  },
  {
   "cell_type": "markdown",
   "metadata": {
    "slideshow": {
     "slide_type": "fragment"
    }
   },
   "source": [
    "Well, there are **many** metrics to evaluate a binary classification:\n",
    "- Accuracy\n",
    "- Precision\n",
    "- Recall\n",
    "- F-score\n",
    "- ROC AUC\n",
    "- ...\n",
    "\n",
    "Let's see how to compute those most common metrics, and why to use them."
   ]
  },
  {
   "cell_type": "markdown",
   "metadata": {
    "slideshow": {
     "slide_type": "subslide"
    }
   },
   "source": [
    "### Accuracy\n",
    "\n",
    "This is most intuitive metrics: the percentage of correctly classified samples.\n",
    "\n",
    "It can be computed with the scikit-learn function `accuracy_score`:"
   ]
  },
  {
   "cell_type": "code",
   "execution_count": 9,
   "metadata": {
    "slideshow": {
     "slide_type": "fragment"
    }
   },
   "outputs": [
    {
     "name": "stdout",
     "output_type": "stream",
     "text": [
      "Accuracy kNN: 0.881559220389805\n",
      "Accuracy LR: 0.8590704647676162\n",
      "Accuracy GDB: 0.9385307346326837\n"
     ]
    }
   ],
   "source": [
    "from sklearn.metrics import accuracy_score\n",
    "\n",
    "y_pred_knn = knn.predict(X_test)\n",
    "y_pred_lr = lr.predict(X_test)\n",
    "y_pred_gdb = gdb.predict(X_test)\n",
    "\n",
    "\n",
    "accuracy_knn = accuracy_score(y_test, y_pred_knn)\n",
    "accuracy_lr = accuracy_score(y_test, y_pred_lr)\n",
    "accuracy_gdb = accuracy_score(y_test, y_pred_gdb)\n",
    "\n",
    "print(\"Accuracy kNN:\", accuracy_knn)\n",
    "print(\"Accuracy LR:\", accuracy_lr)\n",
    "print(\"Accuracy GDB:\", accuracy_gdb)"
   ]
  },
  {
   "cell_type": "markdown",
   "metadata": {
    "slideshow": {
     "slide_type": "subslide"
    }
   },
   "source": [
    "### Confusion matrix\n",
    "\n",
    "This metrics gives more than one value: it gives the correct and wrong classified samples for each class (churner or not)"
   ]
  },
  {
   "cell_type": "code",
   "execution_count": 10,
   "metadata": {
    "slideshow": {
     "slide_type": "fragment"
    }
   },
   "outputs": [
    {
     "name": "stdout",
     "output_type": "stream",
     "text": [
      "Confusion matrix kNN:\n",
      "[[561   9]\n",
      " [ 70  27]]\n",
      "Confusion matrix LR:\n",
      "[[551  19]\n",
      " [ 75  22]]\n",
      "Confusion matrix GDB:\n",
      "[[557  13]\n",
      " [ 28  69]]\n"
     ]
    }
   ],
   "source": [
    "from sklearn.metrics import confusion_matrix\n",
    "\n",
    "confusion_matrix_knn = confusion_matrix(y_test, y_pred_knn)\n",
    "confusion_matrix_lr = confusion_matrix(y_test, y_pred_lr)\n",
    "confusion_matrix_gdb = confusion_matrix(y_test, y_pred_gdb )\n",
    "\n",
    "\n",
    "print(\"Confusion matrix kNN:\", confusion_matrix_knn, sep=\"\\n\")\n",
    "print(\"Confusion matrix LR:\", confusion_matrix_lr, sep=\"\\n\")\n",
    "print(\"Confusion matrix GDB:\", confusion_matrix_gdb, sep=\"\\n\")"
   ]
  },
  {
   "cell_type": "markdown",
   "metadata": {
    "slideshow": {
     "slide_type": "subslide"
    }
   },
   "source": [
    "### Recall, precision and F-score\n",
    "\n",
    "The F-score is defined by the precision and recall:\n",
    "\n",
    "$${\\displaystyle F=2\\cdot {\\frac {\\mathrm {precision} \\cdot \\mathrm {recall} }{\\mathrm {precision} +\\mathrm {recall} }}}$$"
   ]
  },
  {
   "cell_type": "markdown",
   "metadata": {
    "slideshow": {
     "slide_type": "subslide"
    }
   },
   "source": [
    "#### Visual representation of Precision and Recall\n",
    "\n",
    "<img src='images/precision_rappel.png' width='300px' class=\"center\">\n"
   ]
  },
  {
   "cell_type": "markdown",
   "metadata": {
    "slideshow": {
     "slide_type": "subslide"
    }
   },
   "source": [
    "### Classification Report\n",
    "\n",
    "All those metrics can be computed individually with the right scikit-learn function, or altogether with the `classification_report()`"
   ]
  },
  {
   "cell_type": "code",
   "execution_count": 11,
   "metadata": {
    "slideshow": {
     "slide_type": "fragment"
    }
   },
   "outputs": [
    {
     "name": "stdout",
     "output_type": "stream",
     "text": [
      "GDB classification report:\n",
      "              precision    recall  f1-score   support\n",
      "\n",
      "           0       0.95      0.98      0.96       570\n",
      "           1       0.84      0.71      0.77        97\n",
      "\n",
      "    accuracy                           0.94       667\n",
      "   macro avg       0.90      0.84      0.87       667\n",
      "weighted avg       0.94      0.94      0.94       667\n",
      "\n"
     ]
    }
   ],
   "source": [
    "from sklearn.metrics import classification_report\n",
    "print(\"GDB classification report:\", classification_report(y_test, y_pred_gdb) ,sep=\"\\n\")"
   ]
  },
  {
   "cell_type": "markdown",
   "metadata": {
    "slideshow": {
     "slide_type": "subslide"
    }
   },
   "source": [
    "### ROC AUC\n",
    "\n",
    "The ROC curve (Receiver Operating Characteristics) is a really interesting curve, but we usually need a single value: that's why the ROC AUC (Area Under Curve) is commonly used.\n",
    "\n",
    "A totally random model would have a ROC AUC of 0.5.\n",
    "\n",
    "While a perfect model would have a ROC AUC of 1.\n",
    "\n",
    "<img src='images/ROCcurve.png' width='300px' class=\"center\">\n"
   ]
  },
  {
   "cell_type": "code",
   "execution_count": 12,
   "metadata": {
    "slideshow": {
     "slide_type": "subslide"
    }
   },
   "outputs": [
    {
     "name": "stdout",
     "output_type": "stream",
     "text": [
      "ROC AUC kNN: 0.794592150479291\n",
      "ROC AUC LR: 0.8170012660517273\n",
      "ROC AUC GDB: 0.8874660879001628\n"
     ]
    }
   ],
   "source": [
    "from sklearn.metrics import roc_auc_score\n",
    "\n",
    "auc_knn = roc_auc_score(y_test, knn.predict_proba(X_test)[:,1])\n",
    "auc_lr = roc_auc_score(y_test, lr.predict_proba(X_test)[:,1])\n",
    "auc_gdb = roc_auc_score(y_test, gdb.predict_proba(X_test)[:,1])\n",
    "\n",
    "print(\"ROC AUC kNN:\" ,auc_knn)\n",
    "print(\"ROC AUC LR:\" ,auc_lr)\n",
    "print(\"ROC AUC GDB:\" ,auc_gdb)"
   ]
  },
  {
   "cell_type": "markdown",
   "metadata": {
    "slideshow": {
     "slide_type": "subslide"
    }
   },
   "source": [
    "## II.3 Hyperparameter optimization: GridSearch\n",
    "\n",
    "We can now perform a grid search to try improving our performances.\n",
    "\n",
    "Let's try to improve our Gradient Boosting.\n",
    "\n",
    "To help you out, here is the signature of the Gradient Boosting Classifier in scikit-learn:\n",
    "\n",
    "```python\n",
    "GradientBoostingClassifier(loss=’deviance’, learning_rate=0.1, n_estimators=100, subsample=1.0, criterion=’friedman_mse’, min_samples_split=2, min_samples_leaf=1, min_weight_fraction_leaf=0.0, max_depth=3, min_impurity_decrease=0.0, min_impurity_split=None, init=None, random_state=None, max_features=None, verbose=0, max_leaf_nodes=None, warm_start=False, presort=’auto’, validation_fraction=0.1, n_iter_no_change=None, tol=0.0001)\n",
    "```\n",
    "\n",
    "For more information, you can go check the [online documentation](https://scikit-learn.org/stable/modules/generated/sklearn.ensemble.GradientBoostingClassifier.html)."
   ]
  },
  {
   "cell_type": "markdown",
   "metadata": {
    "slideshow": {
     "slide_type": "subslide"
    }
   },
   "source": [
    "**Exercise:**\n",
    "\n",
    "Make the hyperparameter optimization of your model.\n",
    "\n",
    "Here is what you have to do:\n",
    "- Select the hyperparameters you want to optimize\n",
    "- Make your python dict containing the hyperparameters values to test (to try to much, it may take a while...)\n",
    "- Instantiate your grid search object\n",
    "- Fit your grid search and have a look at the best params\n",
    "- Evaluate your optimized model: did it improve the performances?"
   ]
  },
  {
   "cell_type": "code",
   "execution_count": 13,
   "metadata": {
    "slideshow": {
     "slide_type": "subslide"
    }
   },
   "outputs": [
    {
     "name": "stdout",
     "output_type": "stream",
     "text": [
      "best params are: {'max_depth': 5, 'n_estimators': 100}\n",
      "the optimized accuracy is: 0.9475262368815592\n"
     ]
    }
   ],
   "source": [
    "from sklearn.model_selection import GridSearchCV\n",
    "\n",
    "params= {\"max_depth\":[3, 5], \"n_estimators\":[10, 50, 100]}\n",
    "\n",
    "grid = GridSearchCV(GradientBoostingClassifier(), params, \n",
    "                    scoring=\"accuracy\", cv=5)\n",
    "\n",
    "grid.fit(X_train, y_train)\n",
    "\n",
    "print('best params are:', grid.best_params_)\n",
    "\n",
    "print('the optimized accuracy is:', accuracy_score(y_test, grid.predict(X_test)))"
   ]
  },
  {
   "cell_type": "markdown",
   "metadata": {
    "slideshow": {
     "slide_type": "slide"
    }
   },
   "source": [
    "# III. Titanic classification"
   ]
  },
  {
   "cell_type": "markdown",
   "metadata": {
    "slideshow": {
     "slide_type": "fragment"
    }
   },
   "source": [
    "Now you can reload the data of the titanic prepared in previous course, using pickle:\n",
    "```python\n",
    "pickle.load(open('my_data.pkl', 'rb'))\n",
    "```\n",
    "\n",
    "And then perform classification on it, try to get the best accuracy you can!"
   ]
  }
 ],
 "metadata": {
  "celltoolbar": "Slideshow",
  "kernelspec": {
   "display_name": "Python 3",
   "language": "python",
   "name": "python3"
  },
  "language_info": {
   "codemirror_mode": {
    "name": "ipython",
    "version": 3
   },
   "file_extension": ".py",
   "mimetype": "text/x-python",
   "name": "python",
   "nbconvert_exporter": "python",
   "pygments_lexer": "ipython3",
   "version": "3.7.4"
  }
 },
 "nbformat": 4,
 "nbformat_minor": 2
}
