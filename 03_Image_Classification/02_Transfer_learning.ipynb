{
 "cells": [
  {
   "cell_type": "markdown",
   "metadata": {
    "colab_type": "text",
    "id": "OmBlupy1fUme",
    "slideshow": {
     "slide_type": "slide"
    }
   },
   "source": [
    "# Image Classification: Computer Vision and Transfer Learning"
   ]
  },
  {
   "cell_type": "markdown",
   "metadata": {
    "colab_type": "text",
    "id": "F68UAmNSfUmi",
    "slideshow": {
     "slide_type": "fragment"
    }
   },
   "source": [
    "# I. Computer Vision: Deep Learning Era"
   ]
  },
  {
   "cell_type": "markdown",
   "metadata": {
    "colab_type": "text",
    "id": "NG9r8osjfUmk",
    "slideshow": {
     "slide_type": "fragment"
    }
   },
   "source": [
    "## I.1 AlexNet: the game changer"
   ]
  },
  {
   "cell_type": "markdown",
   "metadata": {
    "colab_type": "text",
    "id": "hUwWNmumfUmo",
    "slideshow": {
     "slide_type": "fragment"
    }
   },
   "source": [
    "Historically, convolutional neural networks were not always famous. Yann Le Cun, commonly admitted as one of the creators of this technique, is now a rock star in AI, but had rough years in academic research in the past.\n",
    "\n",
    "CNNs really exploded with [AlexNet](https://papers.nips.cc/paper/4824-imagenet-classification-with-deep-convolutional-neural-networks.pdf) in 2012, a CNN that made a breakthrough in the Computer Vision field. "
   ]
  },
  {
   "cell_type": "markdown",
   "metadata": {
    "colab_type": "text",
    "id": "Qn7vvujv-OfS",
    "slideshow": {
     "slide_type": "subslide"
    }
   },
   "source": [
    "![](images/image_net_error.png)"
   ]
  },
  {
   "cell_type": "markdown",
   "metadata": {
    "colab_type": "text",
    "id": "QOGN7yv9fUmp",
    "slideshow": {
     "slide_type": "subslide"
    }
   },
   "source": [
    "The architecture of AlexNet is the following:\n",
    "\n",
    "![](images/AlexNet-1.png)"
   ]
  },
  {
   "cell_type": "markdown",
   "metadata": {
    "colab_type": "text",
    "id": "8bub54eZfUmr",
    "slideshow": {
     "slide_type": "subslide"
    }
   },
   "source": [
    "The architecture is the following:\n",
    "* Convolutional layer of 11x11 with 96 filters and stride of 4\n",
    "* Max pooling layer of 3x3 with stride of 2\n",
    "* Convolutional layer of 5x5 with 256 filters\n",
    "* Max pooling layer of 3x3 with stride of 2\n",
    "* Convolutional layer of 3x3 with 384 filters\n",
    "* Convolutional layer of 3x3 with 384 filters\n",
    "* Convolutional layer of 3x3 with 256 filters\n",
    "* Max pooling layer of 3x3 with stride of 2\n",
    "* Fully connected layer of 4096 units\n",
    "* Fully connected layer of 4096 units\n",
    "* Output: fully connected softmax layer of 1000 units (1 units per class)"
   ]
  },
  {
   "cell_type": "markdown",
   "metadata": {
    "colab_type": "text",
    "id": "pc-1m0x8fUms",
    "slideshow": {
     "slide_type": "fragment"
    }
   },
   "source": [
    "Since then, CNNs are quite popular and widely used in the Computer Vision: many new powerful architectures have been proposed. Let's see some of them."
   ]
  },
  {
   "cell_type": "markdown",
   "metadata": {
    "colab_type": "text",
    "id": "tAtejPoLfUmu",
    "slideshow": {
     "slide_type": "subslide"
    }
   },
   "source": [
    "## I.2 VGG"
   ]
  },
  {
   "cell_type": "markdown",
   "metadata": {
    "colab_type": "text",
    "id": "e9k6UHp-fUmv",
    "slideshow": {
     "slide_type": "fragment"
    }
   },
   "source": [
    "VGG is one the best architectures of the 2014 image net challenge. It has 16 layers, with the following architecture:\n",
    "\n",
    "![](images/VGG16_layers.png)"
   ]
  },
  {
   "cell_type": "markdown",
   "metadata": {
    "colab_type": "text",
    "id": "BrEUAhI3fUmy",
    "slideshow": {
     "slide_type": "subslide"
    }
   },
   "source": [
    "If you want to reuse the VGG architecture, it has been made very user friendly within Keras.\n",
    "\n",
    "The object VGG16 exists with the following signature:\n",
    "```python\n",
    "keras.applications.vgg16.VGG16(include_top=True, weights='imagenet', input_tensor=None, input_shape=None, pooling=None, classes=1000)\n",
    "```\n",
    "\n",
    "So that one can define a VGG16 architecture with just one line of code.\n",
    "\n",
    "Even better, you can reuse the weights of the network trained on the image net challenge!"
   ]
  },
  {
   "cell_type": "markdown",
   "metadata": {
    "colab_type": "text",
    "id": "SkX7dupZfUmz",
    "slideshow": {
     "slide_type": "subslide"
    }
   },
   "source": [
    "## I.3 ResNet"
   ]
  },
  {
   "cell_type": "markdown",
   "metadata": {
    "colab_type": "text",
    "id": "SQZu1ruAfUm1",
    "slideshow": {
     "slide_type": "fragment"
    }
   },
   "source": [
    "ResNet (for Residual Network) is the winner of the 2015 image net challenge.\n",
    "\n",
    "It was a mini revolution, introducing for the first time the residual blocks:\n",
    "\n",
    "![](images/residual_block.png)"
   ]
  },
  {
   "cell_type": "markdown",
   "metadata": {
    "colab_type": "text",
    "id": "YMaUxRN5fUm2",
    "slideshow": {
     "slide_type": "subslide"
    }
   },
   "source": [
    "Residual blocks are just skip connections: the network can choose to skip one or more layers, if it's better for the learning to do so.\n",
    "\n",
    "The main advantage is that it help learning over very deep networks: at worst, nothing is learnt, but the information keep going forward!"
   ]
  },
  {
   "cell_type": "markdown",
   "metadata": {
    "colab_type": "text",
    "id": "pyBu6LNVfUm3",
    "slideshow": {
     "slide_type": "fragment"
    }
   },
   "source": [
    "There were several versions of the ResNet, with several depth: 50, 101 and 152 layers. All are available in Keras for easy implementation:\n",
    "```python\n",
    "keras.applications.resnet.ResNet50(include_top=True, weights='imagenet', input_tensor=None, input_shape=None, pooling=None, classes=1000)\n",
    "keras.applications.resnet.ResNet101(include_top=True, weights='imagenet', input_tensor=None, input_shape=None, pooling=None, classes=1000)\n",
    "keras.applications.resnet.ResNet152(include_top=True, weights='imagenet', input_tensor=None, input_shape=None, pooling=None, classes=1000)\n",
    "```\n",
    "\n",
    "Again, they are available with weights trained on the image net challenge, which is really convenient for training!"
   ]
  },
  {
   "cell_type": "markdown",
   "metadata": {
    "colab_type": "text",
    "id": "keUfnCRmfUm4",
    "slideshow": {
     "slide_type": "subslide"
    }
   },
   "source": [
    "## I.4 Other architectures"
   ]
  },
  {
   "cell_type": "markdown",
   "metadata": {
    "colab_type": "text",
    "id": "4BGNvwHyfUm5",
    "slideshow": {
     "slide_type": "fragment"
    }
   },
   "source": [
    "There are plenty of other architectures that are quite famous, and that can be used. Many of them are available in Keras [here](https://keras.io/applications/):\n",
    "- Inception\n",
    "- MobileNet\n",
    "- DenseNet\n",
    "- ..."
   ]
  },
  {
   "cell_type": "markdown",
   "metadata": {
    "colab_type": "text",
    "id": "yFzMI6rifUm6",
    "slideshow": {
     "slide_type": "slide"
    }
   },
   "source": [
    "# II. Neural Networks Optimization & Regularization"
   ]
  },
  {
   "cell_type": "markdown",
   "metadata": {
    "colab_type": "text",
    "id": "4BPULmbsfUm7",
    "slideshow": {
     "slide_type": "fragment"
    }
   },
   "source": [
    "## II.1 Epochs and Minibatch Size"
   ]
  },
  {
   "cell_type": "markdown",
   "metadata": {
    "colab_type": "text",
    "id": "ID6O84gPfUm8",
    "slideshow": {
     "slide_type": "fragment"
    }
   },
   "source": [
    "The number of epochs is the number of time all samples are used to train your neural network. Basically, the more you have epochs, the more your neural network is trained on your data and knows it well.\n",
    "\n",
    "The minibatch size is the number of samples used to update the parameters (weights and bias) of your neural network."
   ]
  },
  {
   "cell_type": "markdown",
   "metadata": {
    "colab_type": "text",
    "id": "flgDlzeafUm-",
    "slideshow": {
     "slide_type": "subslide"
    }
   },
   "source": [
    "Below is a representation of the convergence of an gradient descent for three extreme sizes of minibatch:\n",
    "* stochastic means minibatch size = 1\n",
    "* batch means minibatch size is the all the samples\n",
    "* minibatch is in between\n",
    "\n",
    "Each point represent an update of the parameters."
   ]
  },
  {
   "cell_type": "markdown",
   "metadata": {
    "colab_type": "text",
    "id": "6WuuxHhKfUm_",
    "slideshow": {
     "slide_type": "subslide"
    }
   },
   "source": [
    "![](images/minibatch_vs_batch.png)"
   ]
  },
  {
   "cell_type": "markdown",
   "metadata": {
    "colab_type": "text",
    "id": "-Ci2KRrrfUnA",
    "slideshow": {
     "slide_type": "subslide"
    }
   },
   "source": [
    "To summarize this:\n",
    "- Stochastic might be noisy\n",
    "- Batch can take longer to reach minimum\n",
    "- Mini-batch is a tradeoff: a bit noisy but quite fast to converge"
   ]
  },
  {
   "cell_type": "markdown",
   "metadata": {
    "colab_type": "text",
    "id": "H7XxJYLofUnC",
    "slideshow": {
     "slide_type": "fragment"
    }
   },
   "source": [
    "To sum up, it is recommended to use minibatch gradient descent, with typical minibatch size between 32 and 256. This is chosen when fitting a model with the paramter `batch_size`."
   ]
  },
  {
   "cell_type": "markdown",
   "metadata": {
    "colab_type": "text",
    "id": "mDz9BW95fUnD",
    "slideshow": {
     "slide_type": "subslide"
    }
   },
   "source": [
    "## II.2 Learning Rate"
   ]
  },
  {
   "cell_type": "markdown",
   "metadata": {
    "colab_type": "text",
    "id": "7D_UP7FcfUnE",
    "slideshow": {
     "slide_type": "fragment"
    }
   },
   "source": [
    "Would not recommend to play with this hyperparameter at first, but you can try to fine tune it to achieve the best possible results. The learning rate should allow you to reach the global minimum on such a curve:\n",
    "\n",
    "![](images/loss_plot.png)"
   ]
  },
  {
   "cell_type": "markdown",
   "metadata": {
    "colab_type": "text",
    "id": "R6y1gdl--Of_",
    "slideshow": {
     "slide_type": "subslide"
    }
   },
   "source": [
    "As you can imagine, there are three possibilities:\n",
    "- A very small learning rate: you might be stuck in the local minimum\n",
    "- A very large learning rate: you might overshoot the global minimum\n",
    "- A reasonable learning rate: you will endup in the global minimum"
   ]
  },
  {
   "cell_type": "markdown",
   "metadata": {
    "colab_type": "text",
    "id": "X3JcBi0hfUnG",
    "slideshow": {
     "slide_type": "subslide"
    }
   },
   "source": [
    "The following plot shows the potentiel impact of the learning rate on the loss (and thus the accuracy of your model).\n",
    "\n",
    "![](images/lr_epochs.png)"
   ]
  },
  {
   "cell_type": "markdown",
   "metadata": {
    "colab_type": "text",
    "id": "beMBht8FfUnH",
    "slideshow": {
     "slide_type": "fragment"
    }
   },
   "source": [
    "This is just a schematic view, but when a very fine tuning is required, playing with the learning rate can be needed."
   ]
  },
  {
   "cell_type": "markdown",
   "metadata": {
    "colab_type": "text",
    "id": "0jLP5GxKfUnI",
    "slideshow": {
     "slide_type": "subslide"
    }
   },
   "source": [
    "## II.3 Optimizer"
   ]
  },
  {
   "cell_type": "markdown",
   "metadata": {
    "colab_type": "text",
    "id": "aNkjiMTNfUnJ",
    "slideshow": {
     "slide_type": "fragment"
    }
   },
   "source": [
    "Several optimizers exist. Up to now, we only used the gradient descent (`SGD` in keras). But many other optimizers exist. The most frequently used are the following:\n",
    "* `SGD` for Stochastic Gradient Descent\n",
    "* `RMSprop` for Root Mean Square propagation\n",
    "* `adam` for Adaptive Moment optimization"
   ]
  },
  {
   "cell_type": "markdown",
   "metadata": {
    "colab_type": "text",
    "id": "oxrWVthefUnL",
    "slideshow": {
     "slide_type": "subslide"
    }
   },
   "source": [
    "Adam propagation tends to converge in less epochs and to be deal better with noise:\n",
    "![](images/optimizers.png)"
   ]
  },
  {
   "cell_type": "markdown",
   "metadata": {
    "colab_type": "text",
    "id": "-oa3urmRfUnN",
    "slideshow": {
     "slide_type": "fragment"
    }
   },
   "source": [
    "It is recommended to use `adam` with default parameters in most cases."
   ]
  },
  {
   "cell_type": "markdown",
   "metadata": {
    "colab_type": "text",
    "id": "cFjr6s3ifUnQ",
    "slideshow": {
     "slide_type": "subslide"
    }
   },
   "source": [
    "## II.4 Early Stopping"
   ]
  },
  {
   "cell_type": "markdown",
   "metadata": {
    "colab_type": "text",
    "id": "r1SkFCiyfUnS",
    "slideshow": {
     "slide_type": "fragment"
    }
   },
   "source": [
    "Neural networks, as you know, are a really powerful tool. With a complex enough hierarchy, a neural network can learn almost anything. But the drawback is that they can overfit really easily.\n",
    "\n",
    "Then, more than for any other model, regularization might be key to a good model.\n",
    "\n",
    "Below is a plot of the loss of a neural network as a function of the number of epochs, trained on the MNIST digits dataset."
   ]
  },
  {
   "cell_type": "markdown",
   "metadata": {
    "colab_type": "text",
    "id": "XbxJfJJ2fUnT",
    "slideshow": {
     "slide_type": "fragment"
    }
   },
   "source": [
    "![](images/mnist_train_and_test.png)"
   ]
  },
  {
   "cell_type": "markdown",
   "metadata": {
    "colab_type": "text",
    "id": "D16gxgtBfUnU",
    "slideshow": {
     "slide_type": "subslide"
    }
   },
   "source": [
    "As one can see, on this example, after 10 epochs the model is actually overfitting and the test set loss does not decrease anymore. Even worse: the test loss increases!\n",
    "\n",
    "> This means after 10 epochs the **performance** of the MLP is **decreasing**!"
   ]
  },
  {
   "cell_type": "markdown",
   "metadata": {
    "colab_type": "text",
    "id": "k0bLBDmHfUnV",
    "slideshow": {
     "slide_type": "fragment"
    }
   },
   "source": [
    "Overfitting usually does not happen during the first epochs. Then a method so called **early stopping** is to **stop training before the network overfits**.\n",
    "\n",
    "Basically, in this example, a good early stopping would have been to stop around epoch 10.\n",
    "\n",
    "However, TensorFlow allows to automatize that process, using the following callback method: \n",
    "\n",
    "```Python\n",
    "tf.keras.callbacks.EarlyStopping(monitor='val_loss', min_delta=0, patience=0, verbose=0, mode='auto', baseline=None, restore_best_weights=False)\n",
    "```"
   ]
  },
  {
   "cell_type": "markdown",
   "metadata": {
    "colab_type": "text",
    "id": "5IsMbUpjfUnW",
    "slideshow": {
     "slide_type": "subslide"
    }
   },
   "source": [
    "## II.5 Layers and Units"
   ]
  },
  {
   "cell_type": "markdown",
   "metadata": {
    "colab_type": "text",
    "id": "nT4V620GfUnX",
    "slideshow": {
     "slide_type": "fragment"
    }
   },
   "source": [
    "Playing with layers and units is another way to add regularization. Indeed, overfitting is usually cause by a model too complex for the task. Thus, sometimes reducing the number of layers and units might decrease overfitting and then add regularization."
   ]
  },
  {
   "cell_type": "markdown",
   "metadata": {
    "colab_type": "text",
    "id": "ryed_ObmfUnY",
    "slideshow": {
     "slide_type": "subslide"
    }
   },
   "source": [
    "## II.6 Dropout"
   ]
  },
  {
   "cell_type": "markdown",
   "metadata": {
    "colab_type": "text",
    "id": "puto2VkYfUnZ",
    "slideshow": {
     "slide_type": "fragment"
    }
   },
   "source": [
    "A commonly used way of regularizing is the **dropout**. Dropout randomly sets some activation functions to 0 while fitting: this is equivalent to **randomly remove some units** of the neural network.\n",
    "\n",
    "Why? Because it forces the network to not rely on some units only, but to use them all! Thus is may prevent from overfitting."
   ]
  },
  {
   "cell_type": "markdown",
   "metadata": {
    "colab_type": "text",
    "id": "xjW--TDAfUna",
    "slideshow": {
     "slide_type": "subslide"
    }
   },
   "source": [
    "![](images/dropout.png)"
   ]
  },
  {
   "cell_type": "markdown",
   "metadata": {
    "colab_type": "text",
    "id": "eGl0zS0ifUnb",
    "slideshow": {
     "slide_type": "fragment"
    }
   },
   "source": [
    "This can be used in TensorFlow adding a `Dropout` layer, with `p` specifying the probability (between 0 and 1) of a unit to be set to 0:\n",
    "```Python\n",
    "tf.keras.layers.Dropout(p=0.5)\n",
    "```"
   ]
  },
  {
   "cell_type": "markdown",
   "metadata": {
    "colab_type": "text",
    "id": "HcspniPlfUnc",
    "slideshow": {
     "slide_type": "subslide"
    }
   },
   "source": [
    "## II.7 Data Augmentation"
   ]
  },
  {
   "cell_type": "markdown",
   "metadata": {
    "colab_type": "text",
    "id": "09NxOVi_fUnd",
    "slideshow": {
     "slide_type": "fragment"
    }
   },
   "source": [
    "In some cases, if your model overfits or does not work properly, this is just because you don't have enough samples in your training set! Indeed, Deep Learning models need a lot of data to work properly.\n",
    "\n",
    "Thus sometimes you can then use data augmentation, which is the **artificial augmentation of your training dataset**. One of the most common example of data augmentation is in Computer Vision. You can modify an image to increase your training size with the following operations:\n",
    "* Mirroring\n",
    "* Croping\n",
    "* Rotating\n",
    "* Zooming\n",
    "* ..."
   ]
  },
  {
   "cell_type": "markdown",
   "metadata": {
    "colab_type": "text",
    "id": "A1ikpZd_-Oga",
    "slideshow": {
     "slide_type": "subslide"
    }
   },
   "source": [
    "Below is an example of original cat picture (on left) and six artificially created images from the original. That way, you have artificially 7 times more data!\n",
    "\n",
    "![](images/cat_augmentation.png)"
   ]
  },
  {
   "cell_type": "markdown",
   "metadata": {
    "colab_type": "text",
    "id": "FEswSj4dfUne",
    "slideshow": {
     "slide_type": "fragment"
    }
   },
   "source": [
    "To do such thing, TensorFlow has a really powerful built-in function with the following signature:\n",
    "`tf.keras.preprocessing.image.ImageDataGenerator`\n",
    "\n",
    "You can find more on its usage [here](https://keras.io/preprocessing/image/)."
   ]
  },
  {
   "cell_type": "markdown",
   "metadata": {
    "colab_type": "text",
    "id": "XAJG2as8fUne",
    "slideshow": {
     "slide_type": "slide"
    }
   },
   "source": [
    "# III. Application with Transfer Learning"
   ]
  },
  {
   "cell_type": "markdown",
   "metadata": {
    "colab_type": "text",
    "id": "WGEy3maffUnf",
    "slideshow": {
     "slide_type": "fragment"
    }
   },
   "source": [
    "## III.1. Transfer Learning"
   ]
  },
  {
   "cell_type": "markdown",
   "metadata": {
    "colab_type": "text",
    "id": "JwP4x0osfUng",
    "slideshow": {
     "slide_type": "fragment"
    }
   },
   "source": [
    "Transfer Learning is the ability of a model to reuse knowledge from a given problem, to another problem.\n",
    "\n",
    "For example, you want to train a model to classify cars, bus, trucks... on pictures, but you don't have much pictures of cars: how would you do?\n",
    "\n",
    "You can reuse a model that was trained for autonomous driving, that is used to 'see' this kind of objects, and retrain it.\n",
    "\n",
    "Just like we humans, can recognize almost any kind of cats easily, because are already used to 'see' cats."
   ]
  },
  {
   "cell_type": "markdown",
   "metadata": {
    "colab_type": "text",
    "id": "hrl1ujT1fUnh",
    "slideshow": {
     "slide_type": "subslide"
    }
   },
   "source": [
    "This is a really powerful method, that can lead to improved performance and/or fast training.\n",
    "\n",
    "![](images/transfer_learning_curve.png)"
   ]
  },
  {
   "cell_type": "markdown",
   "metadata": {
    "colab_type": "text",
    "id": "Ymxh7kpyfUni",
    "slideshow": {
     "slide_type": "subslide"
    }
   },
   "source": [
    "## III.2 CIFAR-10 dataset"
   ]
  },
  {
   "cell_type": "code",
   "execution_count": 1,
   "metadata": {
    "colab": {
     "base_uri": "https://localhost:8080/",
     "height": 34
    },
    "colab_type": "code",
    "id": "sIdZ7DonfUnk",
    "outputId": "2e77f563-7ea2-4374-aaa8-32231b73b174",
    "slideshow": {
     "slide_type": "fragment"
    }
   },
   "outputs": [
    {
     "data": {
      "text/plain": [
       "((50000, 32, 32, 3), (50000, 1))"
      ]
     },
     "execution_count": 1,
     "metadata": {
      "tags": []
     },
     "output_type": "execute_result"
    }
   ],
   "source": [
    "from tensorflow.keras.datasets import cifar10\n",
    "\n",
    "(X_train, y_train), (X_test, y_test) = cifar10.load_data()\n",
    "\n",
    "# If needed, take only 10000 images for time and memory reasons\n",
    "#X_train = X_train[:10000]\n",
    "#y_train = y_train[:10000]\n",
    "\n",
    "X_train.shape, y_train.shape"
   ]
  },
  {
   "cell_type": "code",
   "execution_count": 2,
   "metadata": {
    "colab": {
     "base_uri": "https://localhost:8080/",
     "height": 298
    },
    "colab_type": "code",
    "id": "6WZXeq5dfUnp",
    "outputId": "300194fa-11f7-4208-d54d-9a156b047903",
    "slideshow": {
     "slide_type": "subslide"
    }
   },
   "outputs": [
    {
     "data": {
      "text/plain": [
       "Text(0.5, 1.0, 'frogs')"
      ]
     },
     "execution_count": 2,
     "metadata": {
      "tags": []
     },
     "output_type": "execute_result"
    },
    {
     "data": {
      "image/png": "[encoded data removed]",
      "text/plain": [
       "<Figure size 432x288 with 1 Axes>"
      ]
     },
     "metadata": {
      "needs_background": "light",
      "tags": []
     },
     "output_type": "display_data"
    }
   ],
   "source": [
    "import matplotlib.pyplot as plt\n",
    "\n",
    "label = ['airplanes', 'cars', 'birds', 'cats', 'deer', 'dogs', 'frogs', 'horses', 'ships', 'trucks']\n",
    "\n",
    "idx = 0\n",
    "\n",
    "plt.imshow(X_train[idx])\n",
    "plt.title(label[y_train[idx][0]])"
   ]
  },
  {
   "cell_type": "markdown",
   "metadata": {
    "colab_type": "text",
    "id": "vcNBe6RIfUnt",
    "slideshow": {
     "slide_type": "subslide"
    }
   },
   "source": [
    "### Data preparation"
   ]
  },
  {
   "cell_type": "code",
   "execution_count": 3,
   "metadata": {
    "colab": {},
    "colab_type": "code",
    "id": "PoEclgyKfUnu",
    "slideshow": {
     "slide_type": "fragment"
    }
   },
   "outputs": [],
   "source": [
    "from tensorflow.keras.utils import to_categorical\n",
    "\n",
    "X_train = X_train/255\n",
    "X_test = X_test/255\n",
    "\n",
    "y_train = to_categorical(y_train, 10)\n",
    "y_test = to_categorical(y_test, 10)"
   ]
  },
  {
   "cell_type": "markdown",
   "metadata": {
    "colab_type": "text",
    "id": "pfNOWPjnfUn1",
    "slideshow": {
     "slide_type": "subslide"
    }
   },
   "source": [
    "## III.3 Model training from scratch\n",
    "\n",
    "We will try to build a VGG model and train it from scratch, and then evaluate the performances."
   ]
  },
  {
   "cell_type": "code",
   "execution_count": 4,
   "metadata": {
    "colab": {},
    "colab_type": "code",
    "id": "gcBCCRBVmgyk",
    "slideshow": {
     "slide_type": "fragment"
    }
   },
   "outputs": [],
   "source": [
    "from tensorflow.keras.applications.vgg16 import VGG16\n",
    "from tensorflow.keras.models import Model\n",
    "from tensorflow.keras.layers import Dense, GlobalAveragePooling2D\n",
    "\n",
    "# create the base model\n",
    "base_model = VGG16(weights=None, include_top=False, \n",
    "             input_shape=X_train.shape[1:])\n",
    "\n",
    "# add a flattening layer\n",
    "# let's add a fully-connected layer to classify\n",
    "x = base_model.get_layer('block3_pool').output\n",
    "x = GlobalAveragePooling2D(name='GlobalPooling')(x)\n",
    "x = Dense(512, activation='relu', name='fc1')(x)\n",
    "predictions = Dense(10, activation='softmax')(x)\n",
    "\n",
    "# this is the model we will train\n",
    "model = Model(inputs=base_model.input, outputs=predictions)"
   ]
  },
  {
   "cell_type": "code",
   "execution_count": 5,
   "metadata": {
    "colab": {
     "base_uri": "https://localhost:8080/",
     "height": 642
    },
    "colab_type": "code",
    "id": "q_W8ND0w-OhE",
    "outputId": "40bec108-d983-49b8-8b0f-53afac72784c",
    "slideshow": {
     "slide_type": "subslide"
    }
   },
   "outputs": [
    {
     "name": "stdout",
     "output_type": "stream",
     "text": [
      "Model: \"functional_1\"\n",
      "_________________________________________________________________\n",
      "Layer (type)                 Output Shape              Param #   \n",
      "=================================================================\n",
      "input_1 (InputLayer)         [(None, 32, 32, 3)]       0         \n",
      "_________________________________________________________________\n",
      "block1_conv1 (Conv2D)        (None, 32, 32, 64)        1792      \n",
      "_________________________________________________________________\n",
      "block1_conv2 (Conv2D)        (None, 32, 32, 64)        36928     \n",
      "_________________________________________________________________\n",
      "block1_pool (MaxPooling2D)   (None, 16, 16, 64)        0         \n",
      "_________________________________________________________________\n",
      "block2_conv1 (Conv2D)        (None, 16, 16, 128)       73856     \n",
      "_________________________________________________________________\n",
      "block2_conv2 (Conv2D)        (None, 16, 16, 128)       147584    \n",
      "_________________________________________________________________\n",
      "block2_pool (MaxPooling2D)   (None, 8, 8, 128)         0         \n",
      "_________________________________________________________________\n",
      "block3_conv1 (Conv2D)        (None, 8, 8, 256)         295168    \n",
      "_________________________________________________________________\n",
      "block3_conv2 (Conv2D)        (None, 8, 8, 256)         590080    \n",
      "_________________________________________________________________\n",
      "block3_conv3 (Conv2D)        (None, 8, 8, 256)         590080    \n",
      "_________________________________________________________________\n",
      "block3_pool (MaxPooling2D)   (None, 4, 4, 256)         0         \n",
      "_________________________________________________________________\n",
      "GlobalPooling (GlobalAverage (None, 256)               0         \n",
      "_________________________________________________________________\n",
      "fc1 (Dense)                  (None, 512)               131584    \n",
      "_________________________________________________________________\n",
      "dense (Dense)                (None, 10)                5130      \n",
      "=================================================================\n",
      "Total params: 1,872,202\n",
      "Trainable params: 1,872,202\n",
      "Non-trainable params: 0\n",
      "_________________________________________________________________\n"
     ]
    }
   ],
   "source": [
    "model.summary()"
   ]
  },
  {
   "cell_type": "markdown",
   "metadata": {
    "colab_type": "text",
    "id": "sMDTCn1XfUn6",
    "slideshow": {
     "slide_type": "subslide"
    }
   },
   "source": [
    "We can add some `callbacks`, here `EarlyStopping` and `TensorBoard`.\n",
    "\n",
    "TensorBoard allows to have a follow up of the training: the learning curve."
   ]
  },
  {
   "cell_type": "code",
   "execution_count": 6,
   "metadata": {
    "colab": {},
    "colab_type": "code",
    "id": "JH77TI3HfUn8",
    "slideshow": {
     "slide_type": "fragment"
    }
   },
   "outputs": [],
   "source": [
    "from tensorflow.keras.callbacks import EarlyStopping\n",
    "from tensorflow.keras.callbacks import TensorBoard\n",
    "\n",
    "# Define now our callbacks\n",
    "callbacks = [EarlyStopping(monitor='val_loss', patience=5),\n",
    "             TensorBoard(log_dir='./Graph')]"
   ]
  },
  {
   "cell_type": "markdown",
   "metadata": {
    "colab_type": "text",
    "id": "66Rm8ydSfUn_",
    "slideshow": {
     "slide_type": "subslide"
    }
   },
   "source": [
    "Now let's compile and fit our model on our dataset:"
   ]
  },
  {
   "cell_type": "code",
   "execution_count": 7,
   "metadata": {
    "colab": {
     "base_uri": "https://localhost:8080/",
     "height": 471
    },
    "colab_type": "code",
    "id": "bA3obitKfUoA",
    "outputId": "4361d0d5-eb9c-459c-e9cb-af8a9f1199fd",
    "slideshow": {
     "slide_type": "fragment"
    }
   },
   "outputs": [
    {
     "name": "stdout",
     "output_type": "stream",
     "text": [
      "Epoch 1/10\n",
      " 1/98 [..............................] - ETA: 0s - loss: 2.3025 - accuracy: 0.1211WARNING:tensorflow:From /usr/local/lib/python3.6/dist-packages/tensorflow/python/ops/summary_ops_v2.py:1277: stop (from tensorflow.python.eager.profiler) is deprecated and will be removed after 2020-07-01.\n",
      "Instructions for updating:\n",
      "use `tf.profiler.experimental.stop` instead.\n",
      " 2/98 [..............................] - ETA: 5s - loss: 3.6627 - accuracy: 0.1094WARNING:tensorflow:Callbacks method `on_train_batch_end` is slow compared to the batch time (batch time: 0.0263s vs `on_train_batch_end` time: 0.0787s). Check your callbacks.\n",
      "98/98 [==============================] - 6s 66ms/step - loss: 2.3905 - accuracy: 0.1377 - val_loss: 2.4415 - val_accuracy: 0.1011\n",
      "Epoch 2/10\n",
      "98/98 [==============================] - 6s 58ms/step - loss: 2.1223 - accuracy: 0.1991 - val_loss: 1.9851 - val_accuracy: 0.2361\n",
      "Epoch 3/10\n",
      "98/98 [==============================] - 6s 58ms/step - loss: 1.9830 - accuracy: 0.2589 - val_loss: 1.9294 - val_accuracy: 0.2714\n",
      "Epoch 4/10\n",
      "98/98 [==============================] - 6s 58ms/step - loss: 1.8078 - accuracy: 0.3321 - val_loss: 1.6857 - val_accuracy: 0.3597\n",
      "Epoch 5/10\n",
      "98/98 [==============================] - 6s 58ms/step - loss: 1.6733 - accuracy: 0.3854 - val_loss: 1.5685 - val_accuracy: 0.4199\n",
      "Epoch 6/10\n",
      "98/98 [==============================] - 6s 59ms/step - loss: 1.5602 - accuracy: 0.4305 - val_loss: 1.3703 - val_accuracy: 0.4946\n",
      "Epoch 7/10\n",
      "98/98 [==============================] - 6s 59ms/step - loss: 1.4417 - accuracy: 0.4741 - val_loss: 1.3519 - val_accuracy: 0.5177\n",
      "Epoch 8/10\n",
      "98/98 [==============================] - 6s 58ms/step - loss: 1.3464 - accuracy: 0.5197 - val_loss: 1.3630 - val_accuracy: 0.4972\n",
      "Epoch 9/10\n",
      "98/98 [==============================] - 6s 57ms/step - loss: 1.2412 - accuracy: 0.5569 - val_loss: 1.0667 - val_accuracy: 0.6225\n",
      "Epoch 10/10\n",
      "98/98 [==============================] - 6s 58ms/step - loss: 1.1418 - accuracy: 0.5961 - val_loss: 1.1473 - val_accuracy: 0.5946\n"
     ]
    },
    {
     "data": {
      "text/plain": [
       "<tensorflow.python.keras.callbacks.History at 0x7f5a82100048>"
      ]
     },
     "execution_count": 7,
     "metadata": {
      "tags": []
     },
     "output_type": "execute_result"
    }
   ],
   "source": [
    "# Compile the model\n",
    "model.compile(optimizer='rmsprop', loss='categorical_crossentropy', metrics=['accuracy'])\n",
    "\n",
    "# Fit the model\n",
    "model.fit(X_train, y_train, validation_data=(X_test, y_test), epochs=10, batch_size=512, callbacks=callbacks)"
   ]
  },
  {
   "cell_type": "markdown",
   "metadata": {
    "colab_type": "text",
    "id": "5uGoByVrfUoG",
    "slideshow": {
     "slide_type": "subslide"
    }
   },
   "source": [
    "After 10 epochs and a lot of computational time, we have reached an accuracy of about 60 % on the validation dataset.\n"
   ]
  },
  {
   "cell_type": "markdown",
   "metadata": {
    "colab_type": "text",
    "id": "_iqIoyObfUoI",
    "slideshow": {
     "slide_type": "fragment"
    }
   },
   "source": [
    "Then to use Tensorboard, just go back to your terminal and type\n",
    "`tensorboard --logdir=Graph` where `Graph` is the path you defined in the tensorboard callback. You will see something like this:\n",
    "\n",
    "![](images/tensorboardoutput.png)"
   ]
  },
  {
   "cell_type": "markdown",
   "metadata": {
    "colab_type": "text",
    "id": "jnsGz4k4fUoJ",
    "slideshow": {
     "slide_type": "subslide"
    }
   },
   "source": [
    "## III.4 Model training with transfer learning\n",
    "\n",
    "Now let's redo the same, but using transfer learning, with the pretrained network on the imagenet competition, using `weights='imagenet'`."
   ]
  },
  {
   "cell_type": "code",
   "execution_count": 8,
   "metadata": {
    "colab": {
     "base_uri": "https://localhost:8080/",
     "height": 419
    },
    "colab_type": "code",
    "id": "HWj0dwkoAY6J",
    "outputId": "e76a5cdb-346f-47f7-c5b3-a119e04f398f",
    "slideshow": {
     "slide_type": "fragment"
    }
   },
   "outputs": [
    {
     "name": "stdout",
     "output_type": "stream",
     "text": [
      "Epoch 1/10\n",
      " 2/98 [..............................] - ETA: 6s - loss: 205.2600 - accuracy: 0.1221WARNING:tensorflow:Callbacks method `on_train_batch_end` is slow compared to the batch time (batch time: 0.0227s vs `on_train_batch_end` time: 0.1224s). Check your callbacks.\n",
      "98/98 [==============================] - 6s 61ms/step - loss: 6.7953 - accuracy: 0.1715 - val_loss: 2.0249 - val_accuracy: 0.2494\n",
      "Epoch 2/10\n",
      "98/98 [==============================] - 6s 58ms/step - loss: 2.2348 - accuracy: 0.2229 - val_loss: 2.0523 - val_accuracy: 0.3092\n",
      "Epoch 3/10\n",
      "98/98 [==============================] - 6s 58ms/step - loss: 1.8036 - accuracy: 0.3558 - val_loss: 1.8525 - val_accuracy: 0.3165\n",
      "Epoch 4/10\n",
      "98/98 [==============================] - 6s 58ms/step - loss: 1.5742 - accuracy: 0.4533 - val_loss: 1.1547 - val_accuracy: 0.5951\n",
      "Epoch 5/10\n",
      "98/98 [==============================] - 6s 57ms/step - loss: 1.2800 - accuracy: 0.5527 - val_loss: 1.1245 - val_accuracy: 0.6059\n",
      "Epoch 6/10\n",
      "98/98 [==============================] - 6s 58ms/step - loss: 1.0722 - accuracy: 0.6292 - val_loss: 1.0688 - val_accuracy: 0.6307\n",
      "Epoch 7/10\n",
      "98/98 [==============================] - 6s 57ms/step - loss: 0.9418 - accuracy: 0.6746 - val_loss: 0.7678 - val_accuracy: 0.7388\n",
      "Epoch 8/10\n",
      "98/98 [==============================] - 6s 58ms/step - loss: 0.7855 - accuracy: 0.7299 - val_loss: 0.8413 - val_accuracy: 0.7241\n",
      "Epoch 9/10\n",
      "98/98 [==============================] - 6s 57ms/step - loss: 0.7005 - accuracy: 0.7572 - val_loss: 0.8761 - val_accuracy: 0.7091\n",
      "Epoch 10/10\n",
      "98/98 [==============================] - 6s 58ms/step - loss: 0.5923 - accuracy: 0.7942 - val_loss: 0.7032 - val_accuracy: 0.7705\n"
     ]
    },
    {
     "data": {
      "text/plain": [
       "<tensorflow.python.keras.callbacks.History at 0x7f5a063fed30>"
      ]
     },
     "execution_count": 8,
     "metadata": {
      "tags": []
     },
     "output_type": "execute_result"
    }
   ],
   "source": [
    "# create the base model\n",
    "base_model = VGG16(weights='imagenet', include_top=False, \n",
    "             input_shape=X_train.shape[1:])\n",
    "\n",
    "# add a flattening layer\n",
    "# let's add a fully-connected layer to classify\n",
    "x = base_model.get_layer('block3_pool').output\n",
    "x = GlobalAveragePooling2D(name='GlobalPooling')(x)\n",
    "x = Dense(512, activation='relu', name='fc1')(x)\n",
    "predictions = Dense(10, activation='softmax')(x)\n",
    "\n",
    "# this is the model we will train\n",
    "model = Model(inputs=base_model.input, outputs=predictions)\n",
    "\n",
    "# Compile the model\n",
    "model.compile(optimizer='rmsprop', loss='categorical_crossentropy', metrics=['accuracy'])\n",
    "\n",
    "# Fit the model\n",
    "model.fit(X_train, y_train, validation_data=(X_test, y_test), epochs=10, batch_size=512, callbacks=callbacks)"
   ]
  },
  {
   "cell_type": "markdown",
   "metadata": {
    "colab_type": "text",
    "id": "6nvgiNPxDC4M",
    "slideshow": {
     "slide_type": "subslide"
    }
   },
   "source": [
    "The accuracy jumped up to 77 %, quite an improvement!"
   ]
  },
  {
   "cell_type": "markdown",
   "metadata": {
    "colab_type": "text",
    "id": "0gkYEA1W-Ohf",
    "slideshow": {
     "slide_type": "fragment"
    }
   },
   "source": [
    "Finally you can try other famous DL architectures, and perhaps improve your performances."
   ]
  }
 ],
 "metadata": {
  "accelerator": "GPU",
  "celltoolbar": "Slideshow",
  "colab": {
   "collapsed_sections": [],
   "name": "02_Transfer_learning.ipynb",
   "provenance": [],
   "toc_visible": true
  },
  "kernelspec": {
   "display_name": "Python 3",
   "language": "python",
   "name": "python3"
  },
  "language_info": {
   "codemirror_mode": {
    "name": "ipython",
    "version": 3
   },
   "file_extension": ".py",
   "mimetype": "text/x-python",
   "name": "python",
   "nbconvert_exporter": "python",
   "pygments_lexer": "ipython3",
   "version": "3.7.4"
  }
 },
 "nbformat": 4,
 "nbformat_minor": 1
}
