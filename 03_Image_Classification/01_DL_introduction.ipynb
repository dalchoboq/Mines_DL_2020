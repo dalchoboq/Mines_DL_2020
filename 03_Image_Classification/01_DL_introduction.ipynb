{
 "cells": [
  {
   "cell_type": "markdown",
   "metadata": {
    "slideshow": {
     "slide_type": "slide"
    }
   },
   "source": [
    "# Image Classification: Introduction to Deep Learning"
   ]
  },
  {
   "cell_type": "markdown",
   "metadata": {
    "slideshow": {
     "slide_type": "fragment"
    }
   },
   "source": [
    "Deep Learning is the specific area of Machine Learning using Neural Networks.\n",
    "\n",
    "Deep Learning has got some momentum thanks to the Big Data: a Deep Learning model usually needs more data than a regular Machine Learning one."
   ]
  },
  {
   "cell_type": "markdown",
   "metadata": {
    "slideshow": {
     "slide_type": "fragment"
    }
   },
   "source": [
    "There are several types of Deep Learning architectures:\n",
    "* Regular Neural Networks (or MLP)\n",
    "* Convolutional Neural Networks\n",
    "* Recurrent Neural Networks\n",
    "* Generative Adversarial Networks\n",
    "* ..."
   ]
  },
  {
   "cell_type": "markdown",
   "metadata": {
    "slideshow": {
     "slide_type": "slide"
    }
   },
   "source": [
    "# I. Neural Networks"
   ]
  },
  {
   "cell_type": "markdown",
   "metadata": {
    "slideshow": {
     "slide_type": "subslide"
    }
   },
   "source": [
    "## I.1. Perceptron"
   ]
  },
  {
   "cell_type": "markdown",
   "metadata": {
    "slideshow": {
     "slide_type": "fragment"
    }
   },
   "source": [
    "The perceptron, which is the fundamental basis of almost all Deep Learning, was first proposed by Frank Rosenblatt, a Psychologist, in 1957.\n",
    "\n",
    "He found his inspiration in the neuron:\n",
    "\n",
    "![](images/neuron-illustration.jpg)"
   ]
  },
  {
   "cell_type": "markdown",
   "metadata": {
    "slideshow": {
     "slide_type": "subslide"
    }
   },
   "source": [
    "![](images/Perceptron_forward.png)"
   ]
  },
  {
   "cell_type": "markdown",
   "metadata": {
    "slideshow": {
     "slide_type": "subslide"
    }
   },
   "source": [
    "## I.2. Neural Network representation"
   ]
  },
  {
   "cell_type": "markdown",
   "metadata": {
    "slideshow": {
     "slide_type": "fragment"
    }
   },
   "source": [
    "Neural networks are usually represented on diagrams using a standard convention:\n",
    "![](images/MLP_with_activations.png)"
   ]
  },
  {
   "cell_type": "markdown",
   "metadata": {
    "slideshow": {
     "slide_type": "subslide"
    }
   },
   "source": [
    "This diagram has to be read from left to right.\n",
    "\n",
    "On the left, here in red, is the **input layer**: this is actually the input features $X=(x_1, x_2, x_3)$ (e.g. number of rooms in a house, presence of a garden...). The number of **units** is the number of input features.\n",
    "\n",
    "On the right, in green, is the **output layer**: this is the prediction of target value (e.g. the house price in a regression, or the class in classification). The number of **units** depends on the task (for regression it is usually one, for multiclass classification the number of classes).\n",
    "\n",
    "There is always one and only one input layer and output layer.\n",
    "\n",
    "In the middle, in blue, are the **hidden layers**. There can be an arbitrary number of hidden layers. The hiddens layers also have an arbitrary number of **units**.\n",
    "\n"
   ]
  },
  {
   "cell_type": "markdown",
   "metadata": {
    "slideshow": {
     "slide_type": "subslide"
    }
   },
   "source": [
    "## I.3. Forward Propagation"
   ]
  },
  {
   "cell_type": "markdown",
   "metadata": {
    "slideshow": {
     "slide_type": "fragment"
    }
   },
   "source": [
    "Now that we understand the representation, we would understand how to compute the output predicted value, given input features $X = (x_1, x_2, ..., x_N)$.\n",
    "\n",
    "To compute this output predicted value, we need to weights $W$ of each unit.\n",
    "\n",
    "Each unit $i$ of a layer $l$ (except the input layer) has associated weights $W^{[l]}_i$. We will use those weights compute the activation $a^{[l]}_i$ of each unit."
   ]
  },
  {
   "cell_type": "markdown",
   "metadata": {
    "slideshow": {
     "slide_type": "subslide"
    }
   },
   "source": [
    "Considering our example in diagram, we could compute the activations of the first hidden layer using the following formulas:\n",
    "\n",
    "$$\n",
    "a^{[1]}_{1} = W^{[1]}_{1} \\times X + b^{[1]}_{1}\n",
    "$$\n",
    "\n",
    "$$\n",
    "a^{[1]}_{2} = W^{[1]}_{2} \\times X + b^{[1]}_{2}\n",
    "$$\n",
    "\n",
    "$$\n",
    "a^{[1]}_{3} = W^{[1]}_{3} \\times X + b^{[1]}_{3}\n",
    "$$\n",
    "\n",
    "$$\n",
    "a^{[1]}_{4} = W^{[1]}_{4} \\times X + b^{[1]}_{4}\n",
    "$$\n",
    "\n",
    "Where $b^{[1]}_{i}$ is called the bias, and i just an additional parameter."
   ]
  },
  {
   "cell_type": "markdown",
   "metadata": {
    "slideshow": {
     "slide_type": "subslide"
    }
   },
   "source": [
    "Now if we want to compute the activations of the second hidden layer $a^{[2]}_i$, we would use the exact same formulas, but with the activations of the first hidden layer as input ($a^{[1]}_i$), instead of the input features:\n",
    "\n",
    "$$\n",
    "a^{[2]}_{1} = W^{[2]}_{1} \\times a^{[1]} + b^{[2]}_{1}\n",
    "$$\n",
    "\n",
    "$$\n",
    "a^{[2]}_{2} = W^{[2]}_{2} \\times a^{[1]} + b^{[2]}_{2}\n",
    "$$\n",
    "\n",
    "$$\n",
    "a^{[2]}_{3} = W^{[2]}_{3} \\times a^{[1]} + b^{[2]}_{3}\n",
    "$$\n",
    "\n",
    "$$\n",
    "a^{[2]}_{4} = W^{[2]}_{4} \\times a^{[1]} + b^{[2]}_{4}\n",
    "$$\n",
    "\n"
   ]
  },
  {
   "cell_type": "markdown",
   "metadata": {
    "slideshow": {
     "slide_type": "fragment"
    }
   },
   "source": [
    "Finally, to compute the output layer would be exactly the same:\n",
    "$$\n",
    "a^{[3]}_{1} = W^{[3]}_{1} \\times a^{[2]} + b^{[3]}_{1}\n",
    "$$\n",
    "\n"
   ]
  },
  {
   "cell_type": "markdown",
   "metadata": {
    "slideshow": {
     "slide_type": "subslide"
    }
   },
   "source": [
    "## I.4. Activation function"
   ]
  },
  {
   "cell_type": "markdown",
   "metadata": {
    "slideshow": {
     "slide_type": "fragment"
    }
   },
   "source": [
    "In Neural networks, usually there is one more step: the activation function, often called $g$.\n",
    "\n",
    "Indeed, if we use the above formulas, the activation values $a^{[l]}_i$ have no boundaries: they could go up to ± infinity. Moreover, though less intuitive, activation functions add non-linearity to the MLP: without activation function, only linearly separable problems can be solved!"
   ]
  },
  {
   "cell_type": "markdown",
   "metadata": {
    "slideshow": {
     "slide_type": "subslide"
    }
   },
   "source": [
    "![](images/activation_purpose.png)"
   ]
  },
  {
   "cell_type": "markdown",
   "metadata": {
    "slideshow": {
     "slide_type": "subslide"
    }
   },
   "source": [
    "So the new formulas are almost the same:\n",
    "\n",
    "$$\n",
    "a^{[1]}_{1} = g(W^{[1]}_{1} \\times X + b^{[1]}_{1}) = g(z^{[1]}_{1})\n",
    "$$\n",
    "\n",
    "$$\n",
    "a^{[1]}_{2} = g(W^{[1]}_{2} \\times X + b^{[1]}_{2}) = g(z^{[1]}_{2})\n",
    "$$\n",
    "\n",
    "$$\n",
    "a^{[1]}_{3} = g(W^{[1]}_{3} \\times X + b^{[1]}_{3}) = g(z^{[1]}_{3})\n",
    "$$\n",
    "\n",
    "$$\n",
    "a^{[1]}_{4} = g(W^{[1]}_{4} \\times X + b^{[1]}_{4}) = g(z^{[1]}_{4})\n",
    "$$\n",
    "\n",
    "And so on for the other layers."
   ]
  },
  {
   "cell_type": "markdown",
   "metadata": {
    "slideshow": {
     "slide_type": "subslide"
    }
   },
   "source": [
    "## I.5. The main activation functions"
   ]
  },
  {
   "cell_type": "markdown",
   "metadata": {
    "slideshow": {
     "slide_type": "fragment"
    }
   },
   "source": [
    "There are five main activation functions: Sigmoid, Tanh, Softmax, Relu and Linear. We will make a review of them now."
   ]
  },
  {
   "cell_type": "markdown",
   "metadata": {
    "slideshow": {
     "slide_type": "subslide"
    }
   },
   "source": [
    "**Sigmoid** is a historic activation function, but not the most efficient in general, now used mainly in last layer of a binary classification. The formula is the following:\n",
    "\n",
    "$$ sigmoid(x) = \\frac{1}{1+e^{-x}} $$"
   ]
  },
  {
   "cell_type": "markdown",
   "metadata": {
    "slideshow": {
     "slide_type": "fragment"
    }
   },
   "source": [
    "**Hyperbolic tangent (or tanh)** is quite similar to sigmoid function. The shape is close to the one of sigmoid, but ranges between -1 and 1, while sigmoid ranges between 0 and 1. This is has a symmetry that sigmoid does not.\n",
    "This is not the most frequently used activation function at first approach anymore.\n",
    "\n",
    "The formula of tanh is the following:\n",
    "$$\n",
    "tanh(x) = \\frac{e^{x} - e^{-x}}{e^{x} + e^{-x}}\n",
    "$$"
   ]
  },
  {
   "cell_type": "markdown",
   "metadata": {
    "slideshow": {
     "slide_type": "fragment"
    }
   },
   "source": [
    "**Rectified linear unit (or relu)** is really different than sigmoid and tanh activations. Even though it looks odd at first sight, it has the advantage of avoiding the problem of vanishing gradient. It is currently one of the most widely used activation function.\n",
    "\n",
    "The formula is the following:\n",
    "$$\n",
    "relu(x) = max(0, x)\n",
    "$$"
   ]
  },
  {
   "cell_type": "code",
   "execution_count": 1,
   "metadata": {
    "slideshow": {
     "slide_type": "subslide"
    }
   },
   "outputs": [
    {
     "data": {
      "image/png": "[encoded data removed]",
      "text/plain": [
       "<Figure size 432x288 with 1 Axes>"
      ]
     },
     "metadata": {
      "needs_background": "light"
     },
     "output_type": "display_data"
    }
   ],
   "source": [
    "import numpy as np\n",
    "import matplotlib.pyplot as plt\n",
    "x = np.arange(-2, 2, 0.02)\n",
    "sigmoid = 1./(1+np.exp(-x))\n",
    "tanh = (np.exp(x)-np.exp(-x))/(np.exp(x)+np.exp(-x))\n",
    "relu = np.max([np.zeros(len(x)), x], axis=0)\n",
    "plt.plot(x, sigmoid)\n",
    "plt.plot(x, tanh)\n",
    "plt.plot(x, relu)\n",
    "\n",
    "plt.xlabel('x')\n",
    "plt.ylabel('activation')\n",
    "plt.legend(['sigmoid', 'tanh', 'relu'])\n",
    "plt.show()"
   ]
  },
  {
   "cell_type": "markdown",
   "metadata": {
    "slideshow": {
     "slide_type": "subslide"
    }
   },
   "source": [
    "**Softmax** function is a special activation function, used in only one specific case: the last layer of a multiclass classification."
   ]
  },
  {
   "cell_type": "markdown",
   "metadata": {
    "slideshow": {
     "slide_type": "fragment"
    }
   },
   "source": [
    "**Linear** function is just the identity, and is used mainly in the specific case of last layer of a regression."
   ]
  },
  {
   "cell_type": "markdown",
   "metadata": {
    "slideshow": {
     "slide_type": "slide"
    }
   },
   "source": [
    "# II. Image Processing"
   ]
  },
  {
   "cell_type": "markdown",
   "metadata": {
    "slideshow": {
     "slide_type": "fragment"
    }
   },
   "source": [
    "## II.1 Image and Machine Learning"
   ]
  },
  {
   "cell_type": "markdown",
   "metadata": {
    "slideshow": {
     "slide_type": "fragment"
    }
   },
   "source": [
    "Images are just numbers! So all we learnt about Machine Learning has to work with images, both classification and regression!\n",
    "![](images/computer_vision_task.png)"
   ]
  },
  {
   "cell_type": "markdown",
   "metadata": {
    "slideshow": {
     "slide_type": "subslide"
    }
   },
   "source": [
    "But unlike other kind of data, images have **spatial structure**! Indeed, the same object can be seen from various viewpoints, deformed, scaled, occluded, etc..."
   ]
  },
  {
   "cell_type": "markdown",
   "metadata": {
    "slideshow": {
     "slide_type": "fragment"
    }
   },
   "source": [
    "![](images/Computer_Vision_limits.png)"
   ]
  },
  {
   "cell_type": "markdown",
   "metadata": {
    "slideshow": {
     "slide_type": "fragment"
    }
   },
   "source": [
    "That's why in order to take full advantage of this spatial structure, we need in **add spatial information in our models**. This is where Convolutional Neural Networks (CNN) take place! So first, let's talk a bit about image processing."
   ]
  },
  {
   "cell_type": "markdown",
   "metadata": {
    "slideshow": {
     "slide_type": "subslide"
    }
   },
   "source": [
    "## II.2 Padding"
   ]
  },
  {
   "cell_type": "markdown",
   "metadata": {
    "slideshow": {
     "slide_type": "fragment"
    }
   },
   "source": [
    "Paddind an image is adding borders to it, thus increasing the size of the image. Most of the time, images are padded with zeros.\n",
    "\n",
    "Below is an example of a 4x4 image before padding, and after padding:\n",
    "\n",
    "![](images/padding_image.png)\n",
    "\n",
    "Padding can also add more than one line of zeros."
   ]
  },
  {
   "cell_type": "markdown",
   "metadata": {
    "slideshow": {
     "slide_type": "subslide"
    }
   },
   "source": [
    "## II.3 Kernel"
   ]
  },
  {
   "cell_type": "markdown",
   "metadata": {
    "slideshow": {
     "slide_type": "fragment"
    }
   },
   "source": [
    "A kernel in image processing is nothing more than a small image (or a small matrix), that we will use to make a convolution.\n",
    "\n",
    "Thus, a kernel is necessary smaller than the image. Usually, kernels have odd dimensions, and are quite small. Typical sizes of kernels are:\n",
    "* 3x3\n",
    "* 5x5\n",
    "* 7x7\n",
    "* 9x9\n",
    "\n",
    "Depending on the values of the kernel, the convolution will provide different results."
   ]
  },
  {
   "cell_type": "markdown",
   "metadata": {
    "slideshow": {
     "slide_type": "subslide"
    }
   },
   "source": [
    "## II.4 Convolution"
   ]
  },
  {
   "cell_type": "markdown",
   "metadata": {
    "slideshow": {
     "slide_type": "fragment"
    }
   },
   "source": [
    "A convolution is a mathematical operation that you already encountered. For example, below is the convolution result of an image with a 3x3 kernel of ones:\n",
    "\n",
    "![](images/convolution_animated.gif)"
   ]
  },
  {
   "cell_type": "markdown",
   "metadata": {
    "slideshow": {
     "slide_type": "subslide"
    }
   },
   "source": [
    "But as you know, the kernel can have different values. Below is an example of a convolution of an image I with a non uniform kernel K:\n",
    "\n",
    "![](images/convolution_kernel.png)"
   ]
  },
  {
   "cell_type": "markdown",
   "metadata": {
    "slideshow": {
     "slide_type": "subslide"
    }
   },
   "source": [
    "A wisely chosen kernel can be really useful to detect patterns in images. Here is a list of commonly used kernels and what they do on a given image (from [wikipedia](https://en.wikipedia.org/wiki/Kernel_(image_processing)):\n",
    "\n",
    "| Kernel | Usage | Example |\n",
    "|:--:|:--:|:--:|\n",
    "| \\begin{bmatrix}\n",
    "0 & 0 & 0 \\\\\n",
    "0 & 1 & 0 \\\\\n",
    "0 & 0 & 0\n",
    "\\end{bmatrix}| Identity | ![](images/Vd-Orig.png)  |\n",
    "|\\begin{bmatrix}\n",
    "\\ \\ 1 & 0 & -1 \\\\\n",
    "\\ \\ 0 & 0 & \\ \\ 0 \\\\\n",
    "-1 & 0 & \\ \\ 1\n",
    "\\end{bmatrix} | Edge detection | ![](images/Vd-Edge1.png)  |\n",
    "| \\begin{bmatrix}\n",
    "0 &  \\ \\ 1 & 0 \\\\\n",
    "1 & -4 & 1 \\\\\n",
    "0 &  \\ \\ 1 & 0\n",
    "\\end{bmatrix}| Edge detection | ![](images/Vd-Edge2.png)  |\n",
    "| \\begin{bmatrix}\n",
    "-1 &  -1 & -1 \\\\\n",
    "-1 & \\ \\ 8 & -1 \\\\\n",
    "-1 &  -1 & -1\n",
    "\\end{bmatrix}| Edge detection | ![](images/Vd-Edge3.png)  |\n",
    "| \\begin{bmatrix}\n",
    "\\ \\ 0 & -1 & \\ \\ 0 \\\\\n",
    "-1 & \\ \\ 5 & -1 \\\\\n",
    "\\ \\ 0 & -1 & \\ \\ 0\n",
    "\\end{bmatrix}| Sharpening | ![](images/Vd-Sharp.png)  |\n",
    "| \\begin{bmatrix}\n",
    "1 & 2 & 1 \\\\\n",
    "2 & 4 & 2 \\\\\n",
    "1 & 2 & 1\n",
    "\\end{bmatrix}| Gaussian blur | ![](images/Vd-Blur1.png)  |\n"
   ]
  },
  {
   "cell_type": "markdown",
   "metadata": {
    "slideshow": {
     "slide_type": "fragment"
    }
   },
   "source": [
    "So to summarize, a convolution is a mathematical operation on a image with a given kernel, resulting in a new processed image."
   ]
  },
  {
   "cell_type": "markdown",
   "metadata": {
    "slideshow": {
     "slide_type": "subslide"
    }
   },
   "source": [
    "## II.5 Strides"
   ]
  },
  {
   "cell_type": "markdown",
   "metadata": {
    "slideshow": {
     "slide_type": "fragment"
    }
   },
   "source": [
    "Up to now, we know how to compute a convolution, with a given kernel, and to pad an image. The last tool needed is what is called stride.\n",
    "\n",
    "The stride value is the step between two convolutions with a kernel. For the moment, all we did was with a stride of one, as in the example below:\n",
    "\n",
    "![](images/Stride1.png)"
   ]
  },
  {
   "cell_type": "markdown",
   "metadata": {
    "slideshow": {
     "slide_type": "subslide"
    }
   },
   "source": [
    "So as we see in this example, an image of dimension 7x7, convoluted with a kernel of 3x3 results in an image of 5x5.\n",
    "\n",
    "What if we use a stride of 2, meaning our kernel with use a step of 2 on our image:\n",
    "\n",
    "![](images/Stride2.png)"
   ]
  },
  {
   "cell_type": "markdown",
   "metadata": {
    "slideshow": {
     "slide_type": "fragment"
    }
   },
   "source": [
    "With a stride of 2, an input image of dimension 7x7 convoluted with a kernel of 3x3 results in an image of 3x3."
   ]
  },
  {
   "cell_type": "markdown",
   "metadata": {
    "slideshow": {
     "slide_type": "slide"
    }
   },
   "source": [
    "# III. Convolutional Neural Networks"
   ]
  },
  {
   "cell_type": "markdown",
   "metadata": {
    "slideshow": {
     "slide_type": "fragment"
    }
   },
   "source": [
    "## III.1 Introduction"
   ]
  },
  {
   "cell_type": "markdown",
   "metadata": {
    "slideshow": {
     "slide_type": "fragment"
    }
   },
   "source": [
    "Why would we use convolutions in neural networks? Isn't a MLP complicated enough?\n",
    "\n",
    "Well, indeed MLP are complicated enough, but they do not take into account *spatial* correlations. Indeed in an image, there are spatial correlations everywhere:\n",
    "* In a face the eye is always close to the nose, and the nose is always in the middle of the face.\n",
    "* A bike always has two wheels.\n",
    "* All numbers and letters have a particular shape.\n",
    "\n",
    "For all of those examples, a classical MLP will not see the spatial correlations, and might have to learn them by itself. But if you add convolutions, this is far more easier to understand the structure of the data for the neural network."
   ]
  },
  {
   "cell_type": "markdown",
   "metadata": {
    "slideshow": {
     "slide_type": "subslide"
    }
   },
   "source": [
    "![](images/CNN_features_levels.png)"
   ]
  },
  {
   "cell_type": "markdown",
   "metadata": {
    "slideshow": {
     "slide_type": "subslide"
    }
   },
   "source": [
    "## III.2 Convolutional Layer"
   ]
  },
  {
   "cell_type": "markdown",
   "metadata": {
    "slideshow": {
     "slide_type": "fragment"
    }
   },
   "source": [
    "To make a CNN, we need first to make a Convolutional Layer. A convolutional layer is simply a convolution on our input data, with several options to choose: the size of the kernel, the padding and the stride. \n",
    "\n",
    "Here is the signature in TensorFlow:\n",
    "\n",
    "```python\n",
    "tensorflow.keras.layers.Conv2D(filters, kernel_size, strides=(1, 1), padding='valid', data_format=None, dilation_rate=(1, 1), activation=None, use_bias=True, kernel_initializer='glorot_uniform', bias_initializer='zeros', kernel_regularizer=None, bias_regularizer=None, activity_regularizer=None, kernel_constraint=None, bias_constraint=None)\n",
    "```"
   ]
  },
  {
   "cell_type": "markdown",
   "metadata": {
    "slideshow": {
     "slide_type": "subslide"
    }
   },
   "source": [
    "With especially the following parameters to use:\n",
    "* `filters`: the number of kernels to use\n",
    "* `kernel_size`: the size of the kernels (e.g. `(3,3)` for a 3x3 kernel)\n",
    "* `padding`: `valid` for no padding, `same` to keep the same dimensions for the image\n",
    "* `kernel_regularizer`: to add regularization\n",
    "\n",
    "We will see how to use it in an example in the last section."
   ]
  },
  {
   "cell_type": "markdown",
   "metadata": {
    "slideshow": {
     "slide_type": "subslide"
    }
   },
   "source": [
    "## III.3 Pooling Layer"
   ]
  },
  {
   "cell_type": "markdown",
   "metadata": {
    "slideshow": {
     "slide_type": "fragment"
    }
   },
   "source": [
    "A pooling layer is a layer that will reduce the size of the images by taking the average or max value of a given number of pixels.\n",
    "\n",
    "Below is an example of pooling layer, with a kernel of 2x2 and a stride of 2 applied on an image of 4x4:\n",
    "\n",
    "![](images/max_pooling.jpeg)\n",
    "\n",
    "A pooling layer is usually used right after a convolutional layer."
   ]
  },
  {
   "cell_type": "markdown",
   "metadata": {
    "slideshow": {
     "slide_type": "subslide"
    }
   },
   "source": [
    "Pooling layers are defined in Keras as well, with the following signature:\n",
    "\n",
    "`tensorflow.keras.layers.MaxPooling2D(pool_size=(2, 2), strides=None, padding='valid', data_format=None)`\n",
    "\n",
    "Where:\n",
    "* `pool_size` is the dimensions of the kernel\n",
    "* `strides` is the stride value, if `None` the value will be the same as `pool_size`\n",
    "* `padding` can be `valid` for no padding or `same` for keeping image dimension"
   ]
  },
  {
   "cell_type": "markdown",
   "metadata": {
    "slideshow": {
     "slide_type": "subslide"
    }
   },
   "source": [
    "# IV. Application: LeNet-5 on MNIST digits"
   ]
  },
  {
   "cell_type": "markdown",
   "metadata": {
    "slideshow": {
     "slide_type": "fragment"
    }
   },
   "source": [
    "## IV.1 Architecture diagram"
   ]
  },
  {
   "cell_type": "markdown",
   "metadata": {
    "slideshow": {
     "slide_type": "fragment"
    }
   },
   "source": [
    "We will first see the architecture of the LeNet-5: this is the algorithm that was proposed by [LeCun et al.](http://yann.lecun.com/exdb/publis/pdf/lecun-01a.pdf) for digit classification using convolutional networks.\n",
    "\n",
    "![](images/Lenet5.png)"
   ]
  },
  {
   "cell_type": "markdown",
   "metadata": {
    "slideshow": {
     "slide_type": "subslide"
    }
   },
   "source": [
    "We will now decompose and explain the layers step by step:\n",
    "* Input (32x32): this is the input image of a digit\n",
    "* C1 (6@28x28): this is a convolutional layer of 3x3 with 6 filters\n",
    "* S2 (6@14x14): this is a max pooling layer of 2x2\n",
    "* C3 (16@10x10): this is a convolution layer of 3x3 with 10 filters\n",
    "* S4 (16@5x5): this is a max pooling layer of 2x2\n",
    "* C5 (120): this is a fully connected layer (MLP) of 120 units\n",
    "* F6 (84): this is a fully connected layer (MLP) pf 84 units\n",
    "* Output (10): this is a softmax layer of 10 units (1 units per digit)"
   ]
  },
  {
   "cell_type": "markdown",
   "metadata": {
    "slideshow": {
     "slide_type": "subslide"
    }
   },
   "source": [
    "## IV.2 Implementation"
   ]
  },
  {
   "cell_type": "markdown",
   "metadata": {
    "slideshow": {
     "slide_type": "fragment"
    }
   },
   "source": [
    "The implementation of the LeNet-5 algorithm would be the following in Keras:"
   ]
  },
  {
   "cell_type": "code",
   "execution_count": 2,
   "metadata": {
    "slideshow": {
     "slide_type": "subslide"
    }
   },
   "outputs": [],
   "source": [
    "from tensorflow.keras.models import Sequential\n",
    "from tensorflow.keras.layers import MaxPooling2D, Conv2D, Flatten, Dense\n",
    "\n",
    "\n",
    "def lenet5():\n",
    "    \n",
    "    model = Sequential()\n",
    "\n",
    "    # Layer C1\n",
    "    model.add(Conv2D(filters=6, kernel_size=(3, 3), activation='relu', input_shape=(28,28,1)))\n",
    "    # Layer S2\n",
    "    model.add(MaxPooling2D(pool_size=(2, 2)))\n",
    "    # Layer C3\n",
    "    model.add(Conv2D(filters=16, kernel_size=(3, 3), activation='relu'))\n",
    "    # Layer S4\n",
    "    model.add(MaxPooling2D(pool_size=(2, 2)))\n",
    "    # Before going into layer C5, we flatten our units\n",
    "    model.add(Flatten())\n",
    "    # Layer C5\n",
    "    model.add(Dense(units=120, activation='relu'))\n",
    "    # Layer F6\n",
    "    model.add(Dense(units=84, activation='relu'))\n",
    "    # Output layer\n",
    "    model.add(Dense(units=10, activation = 'softmax'))\n",
    "    \n",
    "    return model"
   ]
  },
  {
   "cell_type": "markdown",
   "metadata": {
    "slideshow": {
     "slide_type": "subslide"
    }
   },
   "source": [
    "You will soon get familiar with the classes of TensorFlow/Keras. Here we are using the following:\n",
    "- `Sequential()`: this will contain all the layers of our neural network\n",
    "- `Dense(units, activation=None)`: this is a classical multi layer perceptron, taking as input the number of units (i.e. Neurons) and the activation function\n",
    "- `Conv2D(filters, kernel_size, activation)`: this is the convolutional layer\n",
    "- `MaxPooling2D(pool_size)`: this is the pooling layer\n",
    "- `Flatten()`: this is a layer that allows to go from 2D information to 1D information\n",
    "\n",
    "> **NB:** the first layer of a `Sequential` model always takes as input the `input_shape`: this is the `shape` of your images! Otherwise TensorFlow does not know how many input features you have!"
   ]
  },
  {
   "cell_type": "markdown",
   "metadata": {
    "slideshow": {
     "slide_type": "subslide"
    }
   },
   "source": [
    "Finally, one can review a model with the `summary()` method:"
   ]
  },
  {
   "cell_type": "code",
   "execution_count": 3,
   "metadata": {
    "scrolled": true,
    "slideshow": {
     "slide_type": "fragment"
    }
   },
   "outputs": [
    {
     "name": "stdout",
     "output_type": "stream",
     "text": [
      "Model: \"sequential\"\n",
      "_________________________________________________________________\n",
      "Layer (type)                 Output Shape              Param #   \n",
      "=================================================================\n",
      "conv2d (Conv2D)              (None, 26, 26, 6)         60        \n",
      "_________________________________________________________________\n",
      "max_pooling2d (MaxPooling2D) (None, 13, 13, 6)         0         \n",
      "_________________________________________________________________\n",
      "conv2d_1 (Conv2D)            (None, 11, 11, 16)        880       \n",
      "_________________________________________________________________\n",
      "max_pooling2d_1 (MaxPooling2 (None, 5, 5, 16)          0         \n",
      "_________________________________________________________________\n",
      "flatten (Flatten)            (None, 400)               0         \n",
      "_________________________________________________________________\n",
      "dense (Dense)                (None, 120)               48120     \n",
      "_________________________________________________________________\n",
      "dense_1 (Dense)              (None, 84)                10164     \n",
      "_________________________________________________________________\n",
      "dense_2 (Dense)              (None, 10)                850       \n",
      "=================================================================\n",
      "Total params: 60,074\n",
      "Trainable params: 60,074\n",
      "Non-trainable params: 0\n",
      "_________________________________________________________________\n"
     ]
    }
   ],
   "source": [
    "my_model = lenet5()\n",
    "my_model.summary()"
   ]
  },
  {
   "cell_type": "markdown",
   "metadata": {
    "slideshow": {
     "slide_type": "subslide"
    }
   },
   "source": [
    "## IV.3 Model compilation"
   ]
  },
  {
   "cell_type": "markdown",
   "metadata": {
    "slideshow": {
     "slide_type": "fragment"
    }
   },
   "source": [
    "Then you have to compile your model: indeed TensorFlow does not fully work on Python, so a compilation step is necessary. In the compilation, you can provide several parameters.\n",
    "* The optimizer is the optimization algorithm: you already know the gradient descent, you can call it by using `optimizer='adam`\n",
    "* The loss function: for binary classification use `loss='binary_crossentropy'`, multiclass classification `loss='categorical_crossentropy'`, for regression use `loss='mean_squared_error'`\n",
    "* You can also play with the metrics to display in real time, for example to display the accuracy, add the parameter `metrics=['accuracy']`\n",
    "\n",
    "For more information, the documentation is [here](https://keras.io)."
   ]
  },
  {
   "cell_type": "code",
   "execution_count": 4,
   "metadata": {
    "slideshow": {
     "slide_type": "fragment"
    }
   },
   "outputs": [],
   "source": [
    "my_model.compile(optimizer='adam', loss='categorical_crossentropy', metrics=['accuracy'])"
   ]
  },
  {
   "cell_type": "markdown",
   "metadata": {
    "slideshow": {
     "slide_type": "subslide"
    }
   },
   "source": [
    "## IV.4 Model training: Application to MNIST Digits"
   ]
  },
  {
   "cell_type": "markdown",
   "metadata": {
    "slideshow": {
     "slide_type": "fragment"
    }
   },
   "source": [
    "We will now apply this model to the MNIST digits classification problem."
   ]
  },
  {
   "cell_type": "code",
   "execution_count": 5,
   "metadata": {
    "slideshow": {
     "slide_type": "fragment"
    }
   },
   "outputs": [],
   "source": [
    "from tensorflow.keras.datasets import mnist\n",
    "# Import the dataset\n",
    "(X_train, y_train), (X_test, y_test) = mnist.load_data()"
   ]
  },
  {
   "cell_type": "code",
   "execution_count": 6,
   "metadata": {
    "slideshow": {
     "slide_type": "fragment"
    }
   },
   "outputs": [],
   "source": [
    "# Rescale the data\n",
    "X_train = X_train/255.\n",
    "X_test = X_test/255."
   ]
  },
  {
   "cell_type": "code",
   "execution_count": 7,
   "metadata": {
    "slideshow": {
     "slide_type": "fragment"
    }
   },
   "outputs": [],
   "source": [
    "# Reshape\n",
    "X_train = X_train.reshape(X_train.shape[0], X_train.shape[1], X_train.shape[2], 1)\n",
    "X_test = X_test.reshape(X_test.shape[0], X_test.shape[1], X_test.shape[2], 1)"
   ]
  },
  {
   "cell_type": "code",
   "execution_count": 8,
   "metadata": {
    "slideshow": {
     "slide_type": "fragment"
    }
   },
   "outputs": [],
   "source": [
    "from tensorflow.keras.utils import to_categorical\n",
    "# Transform the targets to categorical vectors\n",
    "y_train = to_categorical(y_train, 10)\n",
    "y_test = to_categorical(y_test, 10)"
   ]
  },
  {
   "cell_type": "markdown",
   "metadata": {
    "slideshow": {
     "slide_type": "subslide"
    }
   },
   "source": [
    "Finally, you want to fit your model: just like in scikit-learn! \n",
    "\n",
    "Some parameters have to be given:\n",
    "* `x`: the input features\n",
    "* `y`: the labels or target values\n",
    "* `epochs`: the number of times you iterate over all the input samples\n",
    "* `batch_size`: the number of samples used before updating the parameters of the model (we will speak more about it tomorrow)"
   ]
  },
  {
   "cell_type": "code",
   "execution_count": 9,
   "metadata": {
    "scrolled": true,
    "slideshow": {
     "slide_type": "fragment"
    }
   },
   "outputs": [
    {
     "name": "stdout",
     "output_type": "stream",
     "text": [
      "Train on 60000 samples, validate on 10000 samples\n",
      "Epoch 1/10\n",
      "60000/60000 [==============================] - 15s 250us/sample - loss: 0.2341 - accuracy: 0.9311 - val_loss: 0.0824 - val_accuracy: 0.9746\n",
      "Epoch 2/10\n",
      "60000/60000 [==============================] - 16s 266us/sample - loss: 0.0748 - accuracy: 0.9763 - val_loss: 0.0682 - val_accuracy: 0.9775\n",
      "Epoch 3/10\n",
      "60000/60000 [==============================] - 17s 288us/sample - loss: 0.0536 - accuracy: 0.9833 - val_loss: 0.0407 - val_accuracy: 0.9861\n",
      "Epoch 4/10\n",
      "60000/60000 [==============================] - 13s 215us/sample - loss: 0.0415 - accuracy: 0.9870 - val_loss: 0.0537 - val_accuracy: 0.9823\n",
      "Epoch 5/10\n",
      "60000/60000 [==============================] - 13s 219us/sample - loss: 0.0332 - accuracy: 0.9890 - val_loss: 0.0430 - val_accuracy: 0.9861\n",
      "Epoch 6/10\n",
      "60000/60000 [==============================] - 12s 198us/sample - loss: 0.0302 - accuracy: 0.9903 - val_loss: 0.0385 - val_accuracy: 0.9851\n",
      "Epoch 7/10\n",
      "60000/60000 [==============================] - 13s 216us/sample - loss: 0.0236 - accuracy: 0.9924 - val_loss: 0.0372 - val_accuracy: 0.9880\n",
      "Epoch 8/10\n",
      "60000/60000 [==============================] - 13s 209us/sample - loss: 0.0216 - accuracy: 0.9930 - val_loss: 0.0428 - val_accuracy: 0.9868\n",
      "Epoch 9/10\n",
      "60000/60000 [==============================] - 13s 221us/sample - loss: 0.0164 - accuracy: 0.9948 - val_loss: 0.0435 - val_accuracy: 0.9866\n",
      "Epoch 10/10\n",
      "60000/60000 [==============================] - 13s 209us/sample - loss: 0.0168 - accuracy: 0.9947 - val_loss: 0.0350 - val_accuracy: 0.9883\n"
     ]
    },
    {
     "data": {
      "text/plain": [
       "<tensorflow.python.keras.callbacks.History at 0x7fd9403f5c10>"
      ]
     },
     "execution_count": 9,
     "metadata": {},
     "output_type": "execute_result"
    }
   ],
   "source": [
    "# Finally fit the model\n",
    "my_model.fit(x=X_train, y=y_train, validation_data=(X_test, y_test), epochs=10, batch_size=64)"
   ]
  },
  {
   "cell_type": "markdown",
   "metadata": {
    "slideshow": {
     "slide_type": "subslide"
    }
   },
   "source": [
    "## IV.5. Prediction and evaluation"
   ]
  },
  {
   "cell_type": "markdown",
   "metadata": {
    "slideshow": {
     "slide_type": "fragment"
    }
   },
   "source": [
    "To predict, do not change your habits: use the function `.predict(X)`:"
   ]
  },
  {
   "cell_type": "code",
   "execution_count": 10,
   "metadata": {
    "slideshow": {
     "slide_type": "fragment"
    }
   },
   "outputs": [
    {
     "data": {
      "text/plain": [
       "array([[9.5133186e-11, 3.6845185e-07, 4.6304319e-10, 5.5415690e-08,\n",
       "        1.5886305e-07, 5.1210947e-09, 4.6747328e-13, 9.9999952e-01,\n",
       "        1.1317307e-08, 1.7834157e-08],\n",
       "       [1.4172390e-12, 1.0881038e-11, 1.0000000e+00, 3.4740478e-13,\n",
       "        2.1218947e-12, 2.1520169e-18, 7.1480209e-14, 2.7457800e-11,\n",
       "        2.3750067e-14, 1.3164868e-16],\n",
       "       [5.1503086e-09, 9.9999642e-01, 5.4470078e-08, 6.3477023e-12,\n",
       "        1.2005552e-06, 9.6305339e-11, 1.7442122e-08, 2.2505990e-06,\n",
       "        5.5228011e-08, 6.3406058e-10],\n",
       "       [9.9924004e-01, 2.5692966e-09, 1.1095599e-06, 1.8062543e-09,\n",
       "        2.1377916e-07, 8.2750194e-07, 7.4763672e-04, 1.2615376e-07,\n",
       "        1.2306541e-06, 8.8048027e-06],\n",
       "       [1.4827008e-10, 3.8723260e-07, 2.4772440e-09, 2.8537400e-08,\n",
       "        9.9992085e-01, 3.3212810e-08, 2.9100583e-08, 4.0229605e-08,\n",
       "        3.4418392e-07, 7.8278812e-05]], dtype=float32)"
      ]
     },
     "execution_count": 10,
     "metadata": {},
     "output_type": "execute_result"
    }
   ],
   "source": [
    "# Predict for some values\n",
    "my_model.predict(X_test[:5])"
   ]
  },
  {
   "cell_type": "markdown",
   "metadata": {
    "slideshow": {
     "slide_type": "subslide"
    }
   },
   "source": [
    "To evaluate, you can of course use scikit-learn's metrics as usual. But warning, the keras `.predict()` method does not return classes, but probabilities!\n",
    "\n",
    "You can also use `.evaluate(X, y)`:\n",
    "This function returns a list with the loss and the metrics."
   ]
  },
  {
   "cell_type": "code",
   "execution_count": 11,
   "metadata": {
    "scrolled": false,
    "slideshow": {
     "slide_type": "fragment"
    }
   },
   "outputs": [
    {
     "name": "stdout",
     "output_type": "stream",
     "text": [
      "loss is: 0.034982868475666326\n",
      "accuracy is: 0.9883\n"
     ]
    }
   ],
   "source": [
    "# Evaluate your model\n",
    "loss, accuracy = my_model.evaluate(X_test, y_test, verbose=0)\n",
    "print('loss is:', loss)\n",
    "print('accuracy is:', accuracy)"
   ]
  },
  {
   "cell_type": "markdown",
   "metadata": {
    "slideshow": {
     "slide_type": "fragment"
    }
   },
   "source": [
    "Our algorithm has about 99% accuracy. Amazing, right?!"
   ]
  }
 ],
 "metadata": {
  "celltoolbar": "Slideshow",
  "kernelspec": {
   "display_name": "Python 3",
   "language": "python",
   "name": "python3"
  },
  "language_info": {
   "codemirror_mode": {
    "name": "ipython",
    "version": 3
   },
   "file_extension": ".py",
   "mimetype": "text/x-python",
   "name": "python",
   "nbconvert_exporter": "python",
   "pygments_lexer": "ipython3",
   "version": "3.7.4"
  }
 },
 "nbformat": 4,
 "nbformat_minor": 2
}
