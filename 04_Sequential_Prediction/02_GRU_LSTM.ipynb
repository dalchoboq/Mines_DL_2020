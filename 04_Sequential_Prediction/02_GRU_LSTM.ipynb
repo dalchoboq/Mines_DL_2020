{
 "cells": [
  {
   "cell_type": "markdown",
   "metadata": {
    "slideshow": {
     "slide_type": "slide"
    }
   },
   "source": [
    "# Sequential Prediction: GRUs and LSTMs"
   ]
  },
  {
   "cell_type": "markdown",
   "metadata": {
    "slideshow": {
     "slide_type": "fragment"
    }
   },
   "source": [
    "We keep diving into the Recurrent Neural Networks. We will learn about more advanced techniques to handle long term dependencies, and more types of RNN!"
   ]
  },
  {
   "cell_type": "markdown",
   "metadata": {
    "slideshow": {
     "slide_type": "slide"
    }
   },
   "source": [
    "# I. Translation Machine"
   ]
  },
  {
   "cell_type": "markdown",
   "metadata": {
    "slideshow": {
     "slide_type": "fragment"
    }
   },
   "source": [
    "## I.1 How to translate a sentence?"
   ]
  },
  {
   "cell_type": "markdown",
   "metadata": {
    "slideshow": {
     "slide_type": "subslide"
    }
   },
   "source": [
    "The most intuitive way to translate a sentence would be to use one of the RNN types we saw yesterday: the many-to-many:\n",
    "![](images/many-to-many.png)"
   ]
  },
  {
   "cell_type": "markdown",
   "metadata": {
    "slideshow": {
     "slide_type": "subslide"
    }
   },
   "source": [
    "So the idea is that you take a sentence in english:\n",
    "> `My name is Cassidy.`\n",
    "\n",
    "If we have a well trained network, this should word :\n",
    "The first word `My` is given as input, and outputs `Mon`.\n",
    "\n",
    "The second word `name` outputs `nom`, `is` outputs `est`, and finally `Cassidy` outputs `Cassidy`. Our translation will be \n",
    "> `Mon nom est Cassidy.`\n"
   ]
  },
  {
   "cell_type": "markdown",
   "metadata": {
    "slideshow": {
     "slide_type": "fragment"
    }
   },
   "source": [
    "Alright, let's think about it a bit more: would it work every time doing that way?"
   ]
  },
  {
   "cell_type": "markdown",
   "metadata": {
    "slideshow": {
     "slide_type": "subslide"
    }
   },
   "source": [
    "## I.2 Swapping words issue"
   ]
  },
  {
   "cell_type": "markdown",
   "metadata": {
    "slideshow": {
     "slide_type": "fragment"
    }
   },
   "source": [
    "Now let's consider the following sentence, and let's do the same exercise:\n",
    "> `What is your favorite movie?`\n",
    "\n",
    "The translation now would be the following:\n",
    "> `Quel est ton préféré film ?`\n",
    "\n",
    "This is really **not good**, we want the following translation:\n",
    "> `Quel est ton film préféré ?`\n",
    "\n",
    "\n",
    "Because english and french do not always order the same adjectives and nouns."
   ]
  },
  {
   "cell_type": "markdown",
   "metadata": {
    "slideshow": {
     "slide_type": "subslide"
    }
   },
   "source": [
    "How to deal with that problem? The neural network (and even a human!) actually has to know that both words `favorite` and `movie` have to be translated!\n",
    "\n",
    "When you human, want to translate a sentence, don't you read it all first? Then let's give our RNN a chance to do the same! This would give the following architecture:\n",
    "\n",
    "![](images/many-to-many_translation.png)\n"
   ]
  },
  {
   "cell_type": "markdown",
   "metadata": {
    "slideshow": {
     "slide_type": "subslide"
    }
   },
   "source": [
    "What does this architecture mean? Well we have two sides.\n",
    "\n",
    "The left side, we feed our RNN with the sequence of words in english. So that the RNN has a chance to \"read\" **all the sequence** before making any translation. Just like a human does!\n",
    "\n",
    "The right side is a bit trickier. Once all the sentence has been read, the RNN begins to predict translation. So it begins by predicting the first word, the same way we did up to now.\n",
    "\n",
    "Then, the predicted word is fed as input to predict the next word. Indeed, the **RNN uses the previous predicted word to predict the next one**!\n",
    "\n",
    "This architecture is sometimes called an **encoder-decoder sequence-to-sequence** model."
   ]
  },
  {
   "cell_type": "markdown",
   "metadata": {
    "slideshow": {
     "slide_type": "subslide"
    }
   },
   "source": [
    "## I.3 Long term dependencies"
   ]
  },
  {
   "cell_type": "markdown",
   "metadata": {
    "slideshow": {
     "slide_type": "fragment"
    }
   },
   "source": [
    "Finally, let's look at a final translation example. We want to translate this sentence\n",
    "> `Cats, unlike my dog, don't like water.`\n",
    "\n",
    "Into this one:\n",
    "> `Les chats, contrairement à mon chien, n'aiment pas l'eau.`"
   ]
  },
  {
   "cell_type": "markdown",
   "metadata": {
    "slideshow": {
     "slide_type": "subslide"
    }
   },
   "source": [
    "How would perform our new architecture on that sentence? Quite good, but for sure it would **miss the plural agreement** and give the following translation:\n",
    "> `Les chats, contrairement à mon chien, n'aime pas l'eau.`\n",
    "\n",
    "Indeed, our RNN would predict `n'aime pas` based on `mon chien` right before. While actually, it should remember that it is related to `Les chats` a long time ago...\n",
    "\n",
    "This is the problem of **long-term dependencies**. To manage them, we would like to **keep memory** of the past."
   ]
  },
  {
   "cell_type": "markdown",
   "metadata": {
    "slideshow": {
     "slide_type": "slide"
    }
   },
   "source": [
    "# II. Memory Cells"
   ]
  },
  {
   "cell_type": "markdown",
   "metadata": {
    "slideshow": {
     "slide_type": "fragment"
    }
   },
   "source": [
    "## II.1 RNN Cell structure"
   ]
  },
  {
   "cell_type": "markdown",
   "metadata": {
    "slideshow": {
     "slide_type": "subslide"
    }
   },
   "source": [
    "We will change our representation now, so as a reminder, here is how we could see a RNN cell:\n",
    "![](images/RNN_cell.png)"
   ]
  },
  {
   "cell_type": "markdown",
   "metadata": {
    "slideshow": {
     "slide_type": "subslide"
    }
   },
   "source": [
    "Where we find back what we already know:\n",
    "- The hidden state $h_t$ is computed using $h_{t-1}$ and $x_t$\n",
    "- The prediction $\\hat{y}$ is computed using $h_t$\n",
    "\n",
    "Nothing new for now!"
   ]
  },
  {
   "cell_type": "markdown",
   "metadata": {
    "slideshow": {
     "slide_type": "subslide"
    }
   },
   "source": [
    "## II.2 Gated Recurrent Unit structure"
   ]
  },
  {
   "cell_type": "markdown",
   "metadata": {
    "slideshow": {
     "slide_type": "fragment"
    }
   },
   "source": [
    "In order to keep memory of older state, the first idea was to create an **update gate** usually noted $\\Gamma_u$. This is a **Gated Recurrent Unit** (often called **GRU**) \n",
    "\n",
    "The idea of this update gate is to have a variable that says how much information from the past step we should keep.\n",
    "\n",
    "The structure would be the following:"
   ]
  },
  {
   "cell_type": "markdown",
   "metadata": {
    "slideshow": {
     "slide_type": "subslide"
    }
   },
   "source": [
    "![](images/GRU_cell.png)"
   ]
  },
  {
   "cell_type": "markdown",
   "metadata": {
    "slideshow": {
     "slide_type": "subslide"
    }
   },
   "source": [
    "As you can see on the diagram, the update gate is computed using the sigmoid function, using the same inputs as a regular RNN:\n",
    "\n",
    "$$\n",
    "\\large \\Gamma_u = sigmoid(W_{hu} h_{t-1} + W_{xu} X_t + b_u)\n",
    "$$\n",
    "\n",
    "This value $\\Gamma_u$ can really be seen as a gate:\n",
    "* If $\\Gamma_u = 1$, completely forget the previous state\n",
    "* If $\\Gamma_u = 0$, do not update at all, keep only the previous state\n",
    "\n",
    "This should allow our network to remember information on longer sequences."
   ]
  },
  {
   "cell_type": "markdown",
   "metadata": {
    "slideshow": {
     "slide_type": "subslide"
    }
   },
   "source": [
    "For those who want to full mathematics behind, here they are:\n",
    "\n",
    "$$\n",
    "\\hat{h_t} = g(W_{hh} \\Gamma_r h_{t-1} + W_{xh} X_t + b_h)\n",
    "$$\n",
    "\n",
    "$$\n",
    " \\Gamma_u = sigmoid(W_{hu} h_{t-1} + W_{xu} X_t + b_u)\n",
    "$$\n",
    "\n",
    "$$\n",
    " \\Gamma_r = sigmoid(W_{hr} h_{t-1} + W_{xr} X_t + b_r)\n",
    "$$\n",
    "\n",
    "$$\n",
    " \\hat{h_t} = \\Gamma_u \\hat{h_t} + (1-\\Gamma_u)h_{t-1}\n",
    "$$\n",
    "\n",
    "Where $\\Gamma_r$ can be seen as a relevance gate."
   ]
  },
  {
   "cell_type": "markdown",
   "metadata": {
    "slideshow": {
     "slide_type": "fragment"
    }
   },
   "source": [
    "**No worries**, as usual, all of this is **already coded in TensorFlow**, all you will have to do is:\n",
    "```Python\n",
    "from tensorflow.keras.models import Sequential\n",
    "\n",
    "from tensorflow.keras.layers import GRU\n",
    "\n",
    "model = Sequential()\n",
    "model.add(GRU(units=16))\n",
    "```"
   ]
  },
  {
   "cell_type": "markdown",
   "metadata": {
    "slideshow": {
     "slide_type": "subslide"
    }
   },
   "source": [
    "## II.3 Long Short-Term Memory Cell "
   ]
  },
  {
   "cell_type": "markdown",
   "metadata": {
    "slideshow": {
     "slide_type": "fragment"
    }
   },
   "source": [
    "Historically, before creating GRU, Long Short-Term Memory (LSTM) cells were invented. They are even more complex than GRU.\n",
    "\n",
    "LSTM cells allow to keep information over longer sequences than GRU cells. The drawback is that they have much more parameters, and are thus harder to train: **LSTMs need a larger training dataset**!"
   ]
  },
  {
   "cell_type": "markdown",
   "metadata": {
    "slideshow": {
     "slide_type": "fragment"
    }
   },
   "source": [
    "A GRU cell can be seen a binary update gate: you can either keep all the past information, or rely only on current information. (Even though it is more a threshold that can keep half past and half current information.)\n",
    "\n",
    "A LSTM offers much more liberty: you can either keep all past information **and** all current information."
   ]
  },
  {
   "cell_type": "markdown",
   "metadata": {
    "slideshow": {
     "slide_type": "subslide"
    }
   },
   "source": [
    "The structure is the following:\n",
    "\n",
    "![](images/LSTM_cell.png)"
   ]
  },
  {
   "cell_type": "markdown",
   "metadata": {
    "slideshow": {
     "slide_type": "subslide"
    }
   },
   "source": [
    "The structure seems now very complicated, let's have a look!\n",
    "\n",
    "We still have the update gate that keeps working the same:\n",
    "\n",
    "$$\n",
    "\\Gamma_u = sigmoid(W_{hu} h_{t-1} + W_{xu} X_t + b_u)\n",
    "$$\n",
    "\n",
    "And there is now the **forget gate** $\\Gamma_f$ that is computed the same way (with different weights of course!):\n",
    "\n",
    "$$\n",
    "\\Gamma_f = sigmoid(W_{hf} h_{t-1} + W_{xf} X_t + b_f)\n",
    "$$\n",
    "\n",
    "And we still compute an intermediary state, called now $\\hat{c}$ instead of $\\hat{h}$ before, but this is pretty much the same for the moment:\n",
    "\n",
    "$$\n",
    "\\hat{c_t} = g(W_{hc} \\Gamma_r h_{t-1} + W_{xc} X_t + b_c)\n",
    "$$"
   ]
  },
  {
   "cell_type": "markdown",
   "metadata": {
    "slideshow": {
     "slide_type": "subslide"
    }
   },
   "source": [
    "There is a new player now, the **cell state** $c_t$, that is computed thanks to the update gate, the forget gate and the current state:\n",
    "\n",
    "$$\n",
    "c_t = \\Gamma_f c_{t-1} + \\Gamma_u \\hat{c}_t\n",
    "$$\n",
    "\n",
    "Finally, there is one more gate computed like other gates, the **output gate** $\\Gamma_o$:\n",
    "\n",
    "$$\n",
    "\\Gamma_o = sigmoid(W_{ho} h_{t-1} + W_{xo} X_t + b_o)\n",
    "$$\n",
    "\n",
    "That allows to compute the final hidden state $h_t$:\n",
    "\n",
    "$$\n",
    "h_t = \\Gamma_o c_t\n",
    "$$"
   ]
  },
  {
   "cell_type": "markdown",
   "metadata": {
    "slideshow": {
     "slide_type": "subslide"
    }
   },
   "source": [
    "Like the GRU, the LSTM is **coded in TensorFlow**, all you will have to do is:\n",
    "```Python\n",
    "from tensorflow.keras.models import Sequential\n",
    "\n",
    "from tensorflow.keras.layers import LSTM\n",
    "\n",
    "model = Sequential()\n",
    "model.add(LSTM(units=16))\n",
    "```"
   ]
  },
  {
   "cell_type": "markdown",
   "metadata": {
    "slideshow": {
     "slide_type": "slide"
    }
   },
   "source": [
    "# III. Application to weather forecast"
   ]
  },
  {
   "cell_type": "markdown",
   "metadata": {
    "slideshow": {
     "slide_type": "fragment"
    }
   },
   "source": [
    "Let's use GRUs to predict the weather of SF, given in the `San_Francisco.csv` file.\n",
    "\n",
    "Have a look at the data, clean it if needed.\n",
    "\n",
    "Then as you did for the stock forecast, you will need to compute the `X` and `y` data.\n",
    "\n",
    "`X` will be all the features you kept, of the past half day for example (the number of past hours can be modified). `y` will be the temperature of the current hour.\n",
    "\n",
    "Before building and training your model, do not forget to rescale and split the dataset. "
   ]
  },
  {
   "cell_type": "code",
   "execution_count": 1,
   "metadata": {
    "scrolled": true,
    "slideshow": {
     "slide_type": "subslide"
    }
   },
   "outputs": [
    {
     "name": "stdout",
     "output_type": "stream",
     "text": [
      "(44304, 7)\n"
     ]
    },
    {
     "data": {
      "text/html": [
       "<div>\n",
       "<style scoped>\n",
       "    .dataframe tbody tr th:only-of-type {\n",
       "        vertical-align: middle;\n",
       "    }\n",
       "\n",
       "    .dataframe tbody tr th {\n",
       "        vertical-align: top;\n",
       "    }\n",
       "\n",
       "    .dataframe thead th {\n",
       "        text-align: right;\n",
       "    }\n",
       "</style>\n",
       "<table border=\"1\" class=\"dataframe\">\n",
       "  <thead>\n",
       "    <tr style=\"text-align: right;\">\n",
       "      <th></th>\n",
       "      <th>datetime</th>\n",
       "      <th>Humidity</th>\n",
       "      <th>Pressure</th>\n",
       "      <th>Temperature</th>\n",
       "      <th>Description</th>\n",
       "      <th>Wind direction</th>\n",
       "      <th>Wind speed</th>\n",
       "    </tr>\n",
       "  </thead>\n",
       "  <tbody>\n",
       "    <tr>\n",
       "      <th>1</th>\n",
       "      <td>2012-10-01 13:00:00</td>\n",
       "      <td>88.0</td>\n",
       "      <td>1009.0</td>\n",
       "      <td>289.480000</td>\n",
       "      <td>light rain</td>\n",
       "      <td>150.0</td>\n",
       "      <td>2.0</td>\n",
       "    </tr>\n",
       "    <tr>\n",
       "      <th>2</th>\n",
       "      <td>2012-10-01 14:00:00</td>\n",
       "      <td>87.0</td>\n",
       "      <td>1009.0</td>\n",
       "      <td>289.474993</td>\n",
       "      <td>sky is clear</td>\n",
       "      <td>147.0</td>\n",
       "      <td>2.0</td>\n",
       "    </tr>\n",
       "    <tr>\n",
       "      <th>3</th>\n",
       "      <td>2012-10-01 15:00:00</td>\n",
       "      <td>86.0</td>\n",
       "      <td>1009.0</td>\n",
       "      <td>289.460618</td>\n",
       "      <td>sky is clear</td>\n",
       "      <td>141.0</td>\n",
       "      <td>2.0</td>\n",
       "    </tr>\n",
       "    <tr>\n",
       "      <th>4</th>\n",
       "      <td>2012-10-01 16:00:00</td>\n",
       "      <td>85.0</td>\n",
       "      <td>1009.0</td>\n",
       "      <td>289.446243</td>\n",
       "      <td>sky is clear</td>\n",
       "      <td>135.0</td>\n",
       "      <td>2.0</td>\n",
       "    </tr>\n",
       "    <tr>\n",
       "      <th>5</th>\n",
       "      <td>2012-10-01 17:00:00</td>\n",
       "      <td>84.0</td>\n",
       "      <td>1009.0</td>\n",
       "      <td>289.431869</td>\n",
       "      <td>sky is clear</td>\n",
       "      <td>129.0</td>\n",
       "      <td>2.0</td>\n",
       "    </tr>\n",
       "  </tbody>\n",
       "</table>\n",
       "</div>"
      ],
      "text/plain": [
       "              datetime  Humidity  Pressure  Temperature   Description  \\\n",
       "1  2012-10-01 13:00:00      88.0    1009.0   289.480000    light rain   \n",
       "2  2012-10-01 14:00:00      87.0    1009.0   289.474993  sky is clear   \n",
       "3  2012-10-01 15:00:00      86.0    1009.0   289.460618  sky is clear   \n",
       "4  2012-10-01 16:00:00      85.0    1009.0   289.446243  sky is clear   \n",
       "5  2012-10-01 17:00:00      84.0    1009.0   289.431869  sky is clear   \n",
       "\n",
       "   Wind direction  Wind speed  \n",
       "1           150.0         2.0  \n",
       "2           147.0         2.0  \n",
       "3           141.0         2.0  \n",
       "4           135.0         2.0  \n",
       "5           129.0         2.0  "
      ]
     },
     "execution_count": 1,
     "metadata": {},
     "output_type": "execute_result"
    }
   ],
   "source": [
    "import pandas as pd\n",
    "import numpy as np\n",
    "\n",
    "df = pd.read_csv('San_Francisco.csv')\n",
    "df = df.dropna()\n",
    "print(df.shape)\n",
    "df.head()"
   ]
  },
  {
   "cell_type": "markdown",
   "metadata": {
    "slideshow": {
     "slide_type": "subslide"
    }
   },
   "source": [
    "Let's keep the features: Humidity, Pressure, Temperature, Wind direction and Wind speed, and then prepare the data."
   ]
  },
  {
   "cell_type": "code",
   "execution_count": 2,
   "metadata": {
    "slideshow": {
     "slide_type": "fragment"
    }
   },
   "outputs": [],
   "source": [
    "data = df[['Humidity', 'Pressure', 'Temperature', 'Wind direction', 'Wind speed']]"
   ]
  },
  {
   "cell_type": "code",
   "execution_count": 3,
   "metadata": {
    "slideshow": {
     "slide_type": "fragment"
    }
   },
   "outputs": [],
   "source": [
    "from sklearn.preprocessing import StandardScaler\n",
    "\n",
    "scaler = StandardScaler()\n",
    "data_scaled = scaler.fit_transform(data)"
   ]
  },
  {
   "cell_type": "code",
   "execution_count": 4,
   "metadata": {
    "slideshow": {
     "slide_type": "subslide"
    }
   },
   "outputs": [
    {
     "data": {
      "text/plain": [
       "((44292, 12, 4), (44292,))"
      ]
     },
     "execution_count": 4,
     "metadata": {},
     "output_type": "execute_result"
    }
   ],
   "source": [
    "def processData(data, past):\n",
    "    X,Y = [],[]\n",
    "    for i in range(len(data)-past):\n",
    "        X.append(data[i:i+past, 1:6])\n",
    "        Y.append(data[i+past, 2])\n",
    "\n",
    "    return np.array(X),np.array(Y)\n",
    "\n",
    "\n",
    "lookback = 12 #here in hours\n",
    "\n",
    "X, y = processData(data_scaled, lookback)\n",
    "X.shape, y.shape"
   ]
  },
  {
   "cell_type": "code",
   "execution_count": 5,
   "metadata": {
    "slideshow": {
     "slide_type": "fragment"
    }
   },
   "outputs": [],
   "source": [
    "from sklearn.model_selection import train_test_split\n",
    "\n",
    "X_train, X_test, y_train, y_test = train_test_split(X, y, test_size=0.2, random_state=0, shuffle=False)"
   ]
  },
  {
   "cell_type": "markdown",
   "metadata": {
    "slideshow": {
     "slide_type": "subslide"
    }
   },
   "source": [
    "Finally build and train a model:"
   ]
  },
  {
   "cell_type": "code",
   "execution_count": 6,
   "metadata": {
    "scrolled": false,
    "slideshow": {
     "slide_type": "fragment"
    }
   },
   "outputs": [
    {
     "name": "stdout",
     "output_type": "stream",
     "text": [
      "Train on 35433 samples, validate on 8859 samples\n",
      "Epoch 1/10\n",
      "35433/35433 [==============================] - 22s 635us/sample - loss: 0.0726 - val_loss: 0.0293\n",
      "Epoch 2/10\n",
      "35433/35433 [==============================] - 17s 474us/sample - loss: 0.0323 - val_loss: 0.0273\n",
      "Epoch 3/10\n",
      "35433/35433 [==============================] - 17s 473us/sample - loss: 0.0300 - val_loss: 0.0274\n",
      "Epoch 4/10\n",
      "35433/35433 [==============================] - 17s 473us/sample - loss: 0.0291 - val_loss: 0.0252\n",
      "Epoch 5/10\n",
      "35433/35433 [==============================] - 17s 484us/sample - loss: 0.0280 - val_loss: 0.0241\n",
      "Epoch 6/10\n",
      "35433/35433 [==============================] - 18s 497us/sample - loss: 0.0277 - val_loss: 0.0243\n",
      "Epoch 7/10\n",
      "35433/35433 [==============================] - 19s 526us/sample - loss: 0.0274 - val_loss: 0.0242\n",
      "Epoch 8/10\n",
      "35433/35433 [==============================] - 18s 499us/sample - loss: 0.0272 - val_loss: 0.0246\n",
      "Epoch 9/10\n",
      "35433/35433 [==============================] - 18s 499us/sample - loss: 0.0271 - val_loss: 0.0233\n",
      "Epoch 10/10\n",
      "35433/35433 [==============================] - 16s 455us/sample - loss: 0.0265 - val_loss: 0.0262\n"
     ]
    },
    {
     "data": {
      "text/plain": [
       "<tensorflow.python.keras.callbacks.History at 0x7f28c838c210>"
      ]
     },
     "execution_count": 6,
     "metadata": {},
     "output_type": "execute_result"
    }
   ],
   "source": [
    "from tensorflow.keras.models import Sequential\n",
    "from tensorflow.keras.layers import GRU, Dense, Embedding, Dropout\n",
    "\n",
    "def my_GRU():\n",
    "\n",
    "    model = Sequential()\n",
    "    model.add(GRU(units=32, return_sequences=True, input_shape=(lookback,4)))\n",
    "    model.add(GRU(units=32, return_sequences=True))\n",
    "    model.add(GRU(units=32, return_sequences=False))\n",
    "\n",
    "    model.add(Dense(units=1, activation='linear'))\n",
    "\n",
    "    return model\n",
    "\n",
    "model = my_GRU()\n",
    "\n",
    "model.compile(optimizer='adam',\n",
    "              loss='mean_squared_error')\n",
    "\n",
    "\n",
    "model.fit(x=X_train, y=y_train, validation_data=(X_test, y_test), epochs=10, batch_size=64)"
   ]
  },
  {
   "cell_type": "markdown",
   "metadata": {
    "slideshow": {
     "slide_type": "subslide"
    }
   },
   "source": [
    "Let's check what the model has learnt: we will predict on the test data, and compare the values to the ground truth:"
   ]
  },
  {
   "cell_type": "code",
   "execution_count": 7,
   "metadata": {
    "scrolled": false,
    "slideshow": {
     "slide_type": "fragment"
    }
   },
   "outputs": [
    {
     "data": {
      "image/png": "[encoded data removed]",
      "text/plain": [
       "<Figure size 1152x432 with 1 Axes>"
      ]
     },
     "metadata": {
      "needs_background": "light"
     },
     "output_type": "display_data"
    }
   ],
   "source": [
    "import matplotlib.pyplot as plt\n",
    "plt.figure(figsize=(16, 6))\n",
    "#plt.plot(np.arange(len(X_train)), y_train, label='Train')\n",
    "plt.plot(np.arange(len(X_train), len(X_train)+len(X_test), 1), y_test, label='Test')\n",
    "plt.plot(np.arange(len(X_train), len(X_train)+len(X_test), 1), model.predict(X_test), label='Test prediction')\n",
    "plt.legend()\n",
    "plt.show()"
   ]
  },
  {
   "cell_type": "markdown",
   "metadata": {
    "slideshow": {
     "slide_type": "slide"
    }
   },
   "source": [
    "# IV. Generation with RNNs"
   ]
  },
  {
   "cell_type": "markdown",
   "metadata": {
    "slideshow": {
     "slide_type": "fragment"
    }
   },
   "source": [
    "## IV.1 Generative RNNs"
   ]
  },
  {
   "cell_type": "markdown",
   "metadata": {
    "slideshow": {
     "slide_type": "fragment"
    }
   },
   "source": [
    "Up to now you have seen some types of RNNs, especially you know there is many-to-many and many-to-one.\n",
    "![](images/RNN_types.png)"
   ]
  },
  {
   "cell_type": "markdown",
   "metadata": {
    "slideshow": {
     "slide_type": "subslide"
    }
   },
   "source": [
    "How to implement those cases with TensorFlow?\n",
    "\n",
    "With the parameter `return_sequences`:\n",
    "- When you set `return_sequences = False` to the last layer of your RNN, it won't return anything: thus this is a many-to-one.\n",
    "- When you set `return_sequences = True` to the last layer of your RNN, it will return an output prediction for each step: this is a many-to-many. Then you have to add a `TimeDistributed` layer to apply for example a softmax to each time step."
   ]
  },
  {
   "cell_type": "markdown",
   "metadata": {
    "slideshow": {
     "slide_type": "subslide"
    }
   },
   "source": [
    "Well, there are more types of RNNs, you already saw the translation one (the encoder-decoder sequence-to-sequence model), a many-to-many with shift.\n",
    "\n",
    "You can also do a **One-to-Many** RNN:\n",
    "![](images/one-to-many.png)\n",
    "\n",
    "This can be used for example in music generation! Or any type of sequence generation!"
   ]
  },
  {
   "cell_type": "markdown",
   "metadata": {
    "slideshow": {
     "slide_type": "subslide"
    }
   },
   "source": [
    "This kind of generative networks is actually a bit different than others:\n",
    "- During the training phase you **train them like** a classical **many-to-many network**\n",
    "- Then during the generative phase only, you reinject the output of each time step as input of the next time step"
   ]
  }
 ],
 "metadata": {
  "celltoolbar": "Slideshow",
  "kernelspec": {
   "display_name": "Python 3",
   "language": "python",
   "name": "python3"
  },
  "language_info": {
   "codemirror_mode": {
    "name": "ipython",
    "version": 3
   },
   "file_extension": ".py",
   "mimetype": "text/x-python",
   "name": "python",
   "nbconvert_exporter": "python",
   "pygments_lexer": "ipython3",
   "version": "3.7.4"
  }
 },
 "nbformat": 4,
 "nbformat_minor": 2
}
